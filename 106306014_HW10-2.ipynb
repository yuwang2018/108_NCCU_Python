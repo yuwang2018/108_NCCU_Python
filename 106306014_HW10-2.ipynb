{
 "cells": [
  {
   "cell_type": "markdown",
   "metadata": {},
   "source": [
    "# 9-10月統一發票兌獎"
   ]
  },
  {
   "cell_type": "code",
   "execution_count": 1,
   "metadata": {},
   "outputs": [],
   "source": [
    "%matplotlib inline \n",
    "\n",
    "import numpy as np\n",
    "import matplotlib.pyplot as plt\n",
    "import pandas as pd"
   ]
  },
  {
   "cell_type": "code",
   "execution_count": null,
   "metadata": {},
   "outputs": [
    {
     "name": "stdout",
     "output_type": "stream",
     "text": [
      "請輸入發票號碼：\n",
      "41482012\n",
      "恭喜你中了特別獎！獎金為1000萬元喔！\n",
      "請輸入發票號碼：\n",
      "58837976\n",
      "恭喜你中了特獎！獎金為200萬元喔！\n",
      "請輸入發票號碼：\n",
      "47430762\n",
      "恭喜你中了頭獎！獎金為20萬元喔！\n",
      "請輸入發票號碼：\n",
      "11110762\n",
      "恭喜你中了五獎！獎金為1千元喔！\n",
      "請輸入發票號碼：\n",
      "11111693\n",
      "恭喜你中了增開六獎！獎金為2百元喔！\n"
     ]
    }
   ],
   "source": [
    "while True:\n",
    "    msg = input('請輸入發票號碼：\\n')\n",
    "    \n",
    "    if('41482012' in msg):\n",
    "        print('恭喜你中了特別獎！獎金為1000萬元喔！')\n",
    "    elif('58837976' in msg):\n",
    "        print('恭喜你中了特獎！獎金為200萬元喔！')\n",
    "    elif('20379435' in msg or '47430762' in msg or '36193504' in msg):\n",
    "        print('恭喜你中了頭獎！獎金為20萬元喔！')\n",
    "    elif('0379435' in msg[1:8] or '7430762' in msg[1:8] or '6193504' in msg[1:8]):\n",
    "        print('恭喜你中了二獎！獎金為4萬元喔！')\n",
    "    elif('379435' in msg[2:8] or '430762' in msg[2:8] or '193504' in msg[2:8]):\n",
    "        print('恭喜你中了三獎！獎金為1萬元喔！')\n",
    "    elif('79435' in msg[3:8] or '30762' in msg[3:8] or '93504' in msg[3:8]):\n",
    "        print('恭喜你中了四獎！獎金為4千元喔！')\n",
    "    elif('9435' in msg[4:8] or '0762' in msg[4:8] or '3504' in msg[4:8]):\n",
    "        print('恭喜你中了五獎！獎金為1千元喔！')\n",
    "    elif('435' in msg[5:8] or '762' in msg[5:8] or '504' in msg[5:8]):\n",
    "        print('恭喜你中了六獎！獎金為2百元喔！')\n",
    "    elif('693' in msg[5:8] or '043' in msg[5:8] or '425' in msg[5:8]):\n",
    "        print('恭喜你中了增開六獎！獎金為2百元喔！')\n",
    "    else:\n",
    "        print(\"杯桑，你沒有中獎...\")"
   ]
  },
  {
   "cell_type": "code",
   "execution_count": null,
   "metadata": {},
   "outputs": [],
   "source": []
  }
 ],
 "metadata": {
  "kernelspec": {
   "display_name": "Python 3",
   "language": "python",
   "name": "python3"
  },
  "language_info": {
   "codemirror_mode": {
    "name": "ipython",
    "version": 3
   },
   "file_extension": ".py",
   "mimetype": "text/x-python",
   "name": "python",
   "nbconvert_exporter": "python",
   "pygments_lexer": "ipython3",
   "version": "3.7.3"
  }
 },
 "nbformat": 4,
 "nbformat_minor": 2
}
