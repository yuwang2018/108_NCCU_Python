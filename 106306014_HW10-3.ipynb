{
 "cells": [
  {
   "cell_type": "markdown",
   "metadata": {},
   "source": [
    "# 隨機選擇運動的影片"
   ]
  },
  {
   "cell_type": "code",
   "execution_count": 1,
   "metadata": {},
   "outputs": [],
   "source": [
    "%matplotlib inline \n",
    "\n",
    "import numpy as np\n",
    "import matplotlib.pyplot as plt\n",
    "import pandas as pd"
   ]
  },
  {
   "cell_type": "code",
   "execution_count": 2,
   "metadata": {},
   "outputs": [],
   "source": [
    "import random"
   ]
  },
  {
   "cell_type": "code",
   "execution_count": 3,
   "metadata": {},
   "outputs": [],
   "source": [
    "ab_list=['https://www.youtube.com/watch?v=Lnd2BvSr1Do&list=PL9WX4kIuPGne6Y40uKFtERD2hZ7-Zm8Xe&index=2&t=0s','https://www.youtube.com/watch?v=vx7I0X7-32U&list=PL9WX4kIuPGne6Y40uKFtERD2hZ7-Zm8Xe&index=2','https://www.youtube.com/watch?v=x4It0ND7Vuw&list=PL9WX4kIuPGne6Y40uKFtERD2hZ7-Zm8Xe&index=3']\n",
    "arm_list=['https://www.youtube.com/watch?v=j8JUgvDaXAQ&list=PL9WX4kIuPGnd8LL8SBznmmyr-cfGTzDSe&index=7&t=0s','https://www.youtube.com/watch?v=C8oSs8qf_7g&list=PL9WX4kIuPGnd8LL8SBznmmyr-cfGTzDSe&index=8','https://www.youtube.com/watch?v=YXCjEtDKIpA&list=PL9WX4kIuPGnd8LL8SBznmmyr-cfGTzDSe&index=9','https://www.youtube.com/watch?v=Guq_bB4otbU&list=PL9WX4kIuPGnd8LL8SBznmmyr-cfGTzDSe&index=10']\n",
    "leg_list=['https://www.youtube.com/watch?v=P2MI5A3mo1c&list=PL9WX4kIuPGneMdu2xXDrVp6LkiCZSp_NO&index=3&t=0s','https://www.youtube.com/watch?v=Q1CMxn9WTwA&list=PL9WX4kIuPGneMdu2xXDrVp6LkiCZSp_NO&index=3','https://www.youtube.com/watch?v=3kw1VyK2TVA&list=PL9WX4kIuPGneMdu2xXDrVp6LkiCZSp_NO&index=4','https://www.youtube.com/watch?v=L_OStkVrZmI&list=PL9WX4kIuPGneMdu2xXDrVp6LkiCZSp_NO&index=5','https://www.youtube.com/watch?v=eFcQBxJA5s0&list=PL9WX4kIuPGneMdu2xXDrVp6LkiCZSp_NO&index=9']\n",
    "fullbody_list=['https://www.youtube.com/watch?v=1_peyd-40Hk&list=PL9WX4kIuPGnceNwsrvwLcHfcw78a3E07d&index=4&t=0s','https://www.youtube.com/watch?v=Lzk7n3PK3Lk&list=PL9WX4kIuPGnceNwsrvwLcHfcw78a3E07d&index=4']"
   ]
  },
  {
   "cell_type": "code",
   "execution_count": 6,
   "metadata": {},
   "outputs": [
    {
     "name": "stdout",
     "output_type": "stream",
     "text": [
      "請問你想做哪種運動呢？(ab/arm/leg/full body)\n",
      "leg\n",
      "請問你想要幾個影片呢？\n",
      "2\n",
      "['https://www.youtube.com/watch?v=P2MI5A3mo1c&list=PL9WX4kIuPGneMdu2xXDrVp6LkiCZSp_NO&index=3&t=0s', 'https://www.youtube.com/watch?v=3kw1VyK2TVA&list=PL9WX4kIuPGneMdu2xXDrVp6LkiCZSp_NO&index=4']\n"
     ]
    }
   ],
   "source": [
    "msg1 = input('請問你想做哪種運動呢？(ab/arm/leg/full body)\\n')\n",
    "\n",
    "if ('ab' in msg1):\n",
    "    msg2 = input('請問你想要幾個影片呢？\\n')\n",
    "    print(random.sample(ab_list, int(msg2)))\n",
    "elif('arm' in msg1):\n",
    "    msg2 = input('請問你想要幾個影片呢？\\n')\n",
    "    print(random.sample(arm_list, int(msg2)))\n",
    "elif('leg' in msg1):\n",
    "    msg2 = input('請問你想要幾個影片呢？\\n')\n",
    "    print(random.sample(leg_list, int(msg2)))\n",
    "elif('full body' in msg1):\n",
    "    msg2 = input('請問你想要幾個影片呢？\\n')\n",
    "    print(random.sample(fullbody_list, int(msg2)))\n",
    "else:\n",
    "    print('輸入錯誤！')"
   ]
  },
  {
   "cell_type": "code",
   "execution_count": null,
   "metadata": {},
   "outputs": [],
   "source": []
  }
 ],
 "metadata": {
  "kernelspec": {
   "display_name": "Python 3",
   "language": "python",
   "name": "python3"
  },
  "language_info": {
   "codemirror_mode": {
    "name": "ipython",
    "version": 3
   },
   "file_extension": ".py",
   "mimetype": "text/x-python",
   "name": "python",
   "nbconvert_exporter": "python",
   "pygments_lexer": "ipython3",
   "version": "3.7.3"
  }
 },
 "nbformat": 4,
 "nbformat_minor": 2
}
