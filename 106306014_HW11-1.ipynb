{
 "cells": [
  {
   "cell_type": "markdown",
   "metadata": {},
   "source": [
    "## 隨機推薦音樂"
   ]
  },
  {
   "cell_type": "code",
   "execution_count": 1,
   "metadata": {},
   "outputs": [
    {
     "name": "stdout",
     "output_type": "stream",
     "text": [
      "Populating the interactive namespace from numpy and matplotlib\n"
     ]
    }
   ],
   "source": [
    "%pylab inline\n",
    "\n",
    "import random\n",
    "\n",
    "\n",
    "import numpy as np\n",
    "import matplotlib.pyplot as plt\n",
    "import pandas as pd"
   ]
  },
  {
   "cell_type": "code",
   "execution_count": 2,
   "metadata": {},
   "outputs": [],
   "source": [
    "list1 =['https://www.youtube.com/watch?v=vUEt5ydDIHg','https://www.youtube.com/watch?v=EptAOgshrQ8','https://www.youtube.com/watch?v=vWWNmRFf7vY']\n",
    "list2 =['https://www.youtube.com/watch?v=xWTiOqJqkk0','https://www.youtube.com/watch?v=NbNPJr_0tqA','https://www.youtube.com/watch?v=cxpFzRESmPg']\n",
    "list3 =['https://www.youtube.com/watch?v=Pkh8UtuejGw','https://www.youtube.com/watch?v=FuXNumBwDOM','https://www.youtube.com/watch?v=CMla2ZIz7-4']\n",
    "k = np.random.randint(0,2,1)"
   ]
  },
  {
   "cell_type": "code",
   "execution_count": 4,
   "metadata": {},
   "outputs": [
    {
     "name": "stdout",
     "output_type": "stream",
     "text": [
      "請問今天想聽什麼音樂呢？\n",
      "1. 感動抒情\n",
      "2. 樂團搖滾\n",
      "3. 西洋流行\n",
      "西洋流行\n",
      "我為你選出的歌為：\n",
      "['https://www.youtube.com/watch?v=FuXNumBwDOM']\n"
     ]
    }
   ],
   "source": [
    "msg = input('請問今天想聽什麼音樂呢？\\n1. 感動抒情\\n2. 樂團搖滾\\n3. 西洋流行\\n')\n",
    "\n",
    "if ('感動抒情' in msg):\n",
    "    print('我為你選出的歌為：')\n",
    "    print(random.sample(list1, int(k)))\n",
    "elif('樂團搖滾' in msg):   \n",
    "    print('我為你選出的歌為：')\n",
    "    print(random.sample(list2, int(k)))\n",
    "elif('西洋流行' in msg):   \n",
    "    print('我為你選出的歌為：')\n",
    "    print(random.sample(list3, int(k)))\n",
    "else:\n",
    "    print('輸入錯誤！')\n",
    "    "
   ]
  },
  {
   "cell_type": "code",
   "execution_count": null,
   "metadata": {},
   "outputs": [],
   "source": []
  }
 ],
 "metadata": {
  "kernelspec": {
   "display_name": "Python 3",
   "language": "python",
   "name": "python3"
  },
  "language_info": {
   "codemirror_mode": {
    "name": "ipython",
    "version": 3
   },
   "file_extension": ".py",
   "mimetype": "text/x-python",
   "name": "python",
   "nbconvert_exporter": "python",
   "pygments_lexer": "ipython3",
   "version": "3.7.3"
  }
 },
 "nbformat": 4,
 "nbformat_minor": 2
}
