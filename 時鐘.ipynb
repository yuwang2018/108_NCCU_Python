{
 "cells": [
  {
   "cell_type": "code",
   "execution_count": 1,
   "metadata": {},
   "outputs": [],
   "source": [
    "%matplotlib inline\n",
    "\n",
    "import numpy as np\n",
    "import matplotlib.pyplot as plt\n",
    "import pandas as pd\n",
    "\n",
    "import datetime\n",
    "import time"
   ]
  },
  {
   "cell_type": "code",
   "execution_count": 7,
   "metadata": {},
   "outputs": [
    {
     "name": "stdout",
     "output_type": "stream",
     "text": [
      "你想知道 1.今日日期 2.今天是今年的第幾天 3.現在時間 哪一個呢？(請輸入數字)\n",
      "5\n",
      "小孩子才做選擇，全部都顯示給你看！\n",
      "\n",
      "今天的日期是 Dec 31\n",
      "今天是 2019  年的第 365 天\n",
      "現在時間為 22:48:33\n"
     ]
    }
   ],
   "source": [
    "msg = input('你想知道 1.今日日期 2.今天是今年的第幾天 3.現在時間 哪一個呢？(請輸入數字)\\n')\n",
    "while True:\n",
    "    \n",
    "    if ('1' in msg):\n",
    "        print('今天的日期是',time.strftime(\"%b %d\", time.localtime()))\n",
    "        break\n",
    "    elif('2'in msg):\n",
    "        print('今天是',time.strftime(\"%Y \", time.localtime()),'年的第',time.strftime(\"%j\", time.localtime()),'天')\n",
    "        break\n",
    "    elif('3'in msg):\n",
    "        print ('現在時間為',time.strftime(\"%H:%M:%S\", time.localtime()))\n",
    "        break\n",
    "    else:\n",
    "        print(\"小孩子才做選擇，全部都顯示給你看！\\n\")\n",
    "        print('今天的日期是',time.strftime(\"%b %d\", time.localtime()))\n",
    "        print('今天是',time.strftime(\"%Y \", time.localtime()),'年的第',time.strftime(\"%j\", time.localtime()),'天')\n",
    "        print ('現在時間為',time.strftime(\"%H:%M:%S\", time.localtime()))\n",
    "        break"
   ]
  }
 ],
 "metadata": {
  "kernelspec": {
   "display_name": "Python 3",
   "language": "python",
   "name": "python3"
  },
  "language_info": {
   "codemirror_mode": {
    "name": "ipython",
    "version": 3
   },
   "file_extension": ".py",
   "mimetype": "text/x-python",
   "name": "python",
   "nbconvert_exporter": "python",
   "pygments_lexer": "ipython3",
   "version": "3.7.3"
  }
 },
 "nbformat": 4,
 "nbformat_minor": 2
}
