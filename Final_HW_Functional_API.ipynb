{
  "nbformat": 4,
  "nbformat_minor": 0,
  "metadata": {
    "kernelspec": {
      "display_name": "Python 3",
      "language": "python",
      "name": "python3"
    },
    "language_info": {
      "codemirror_mode": {
        "name": "ipython",
        "version": 3
      },
      "file_extension": ".py",
      "mimetype": "text/x-python",
      "name": "python",
      "nbconvert_exporter": "python",
      "pygments_lexer": "ipython3",
      "version": "3.6.4"
    },
    "colab": {
      "name": "Final HW--Functional API",
      "provenance": [],
      "collapsed_sections": [],
      "include_colab_link": true
    }
  },
  "cells": [
    {
      "cell_type": "markdown",
      "metadata": {
        "id": "view-in-github",
        "colab_type": "text"
      },
      "source": [
        "<a href=\"https://colab.research.google.com/github/yuwang2018/108_NCCU_Python/blob/master/Final_HW_Functional_API.ipynb\" target=\"_parent\"><img src=\"https://colab.research.google.com/assets/colab-badge.svg\" alt=\"Open In Colab\"/></a>"
      ]
    },
    {
      "cell_type": "markdown",
      "metadata": {
        "id": "aqyj52CwQSPp",
        "colab_type": "text"
      },
      "source": [
        "# Functional API in Keras\n",
        "> 從變數的角度把所有東西看成函數使用\n",
        "\n"
      ]
    },
    {
      "cell_type": "markdown",
      "metadata": {
        "id": "xaNIK3peQSPq",
        "colab_type": "text"
      },
      "source": [
        "## 1: 切換 TensorFlow 版本及匯入所需套件"
      ]
    },
    {
      "cell_type": "code",
      "metadata": {
        "id": "s6CDM3CyrpbE",
        "colab_type": "code",
        "colab": {}
      },
      "source": [
        "%tensorflow_version 2.x"
      ],
      "execution_count": 0,
      "outputs": []
    },
    {
      "cell_type": "markdown",
      "metadata": {
        "id": "XT_NnvgZddw2",
        "colab_type": "text"
      },
      "source": [
        "Keras可以用各種不同的深度學習套件當作底層，在此指定用Tensorflow以確保執行的一致性"
      ]
    },
    {
      "cell_type": "code",
      "metadata": {
        "id": "znASggsBQSPu",
        "colab_type": "code",
        "colab": {}
      },
      "source": [
        "# 讀入基本工具\n",
        "import matplotlib.pyplot as plt\n",
        "import numpy as np\n",
        "import tensorflow as tf\n",
        "\n",
        "# 讀入資料集\n",
        "from tensorflow.keras.datasets import mnist\n",
        "#one-hot encoding\n",
        "from tensorflow.keras.utils import to_categorical"
      ],
      "execution_count": 0,
      "outputs": []
    },
    {
      "cell_type": "markdown",
      "metadata": {
        "id": "qbesaJSZmyUn",
        "colab_type": "text"
      },
      "source": [
        "## 2: 下載 MNIST 資料集"
      ]
    },
    {
      "cell_type": "code",
      "metadata": {
        "id": "TSJ32qu0m74Q",
        "colab_type": "code",
        "colab": {}
      },
      "source": [
        "(X_train, y_train), (X_test, y_test) = mnist.load_data()"
      ],
      "execution_count": 0,
      "outputs": []
    },
    {
      "cell_type": "code",
      "metadata": {
        "id": "AJkxK_p_p56d",
        "colab_type": "code",
        "outputId": "bc1c9db2-a3c2-4a94-bd3e-35dc2a4258b9",
        "colab": {
          "base_uri": "https://localhost:8080/",
          "height": 35
        }
      },
      "source": [
        "X_train.shape"
      ],
      "execution_count": 4,
      "outputs": [
        {
          "output_type": "execute_result",
          "data": {
            "text/plain": [
              "(60000, 28, 28)"
            ]
          },
          "metadata": {
            "tags": []
          },
          "execution_count": 4
        }
      ]
    },
    {
      "cell_type": "code",
      "metadata": {
        "id": "oTkABF8BqX34",
        "colab_type": "code",
        "outputId": "6d47c9a2-8dc8-4b78-adc5-5e6e793278be",
        "colab": {
          "base_uri": "https://localhost:8080/",
          "height": 35
        }
      },
      "source": [
        "X_test.shape"
      ],
      "execution_count": 5,
      "outputs": [
        {
          "output_type": "execute_result",
          "data": {
            "text/plain": [
              "(10000, 28, 28)"
            ]
          },
          "metadata": {
            "tags": []
          },
          "execution_count": 5
        }
      ]
    },
    {
      "cell_type": "code",
      "metadata": {
        "id": "EAE8nCLiqfYh",
        "colab_type": "code",
        "colab": {}
      },
      "source": [
        "# Reshape size\n",
        "X_train = X_train.reshape(-1, 28*28)\n",
        "X_test = X_test.reshape(-1, 28*28)"
      ],
      "execution_count": 0,
      "outputs": []
    },
    {
      "cell_type": "code",
      "metadata": {
        "id": "IwRalWIPq7XZ",
        "colab_type": "code",
        "colab": {}
      },
      "source": [
        "# 特徵標準化\n",
        "X_train = X_train / X_train.max()\n",
        "X_test = X_test / X_test.max()"
      ],
      "execution_count": 0,
      "outputs": []
    },
    {
      "cell_type": "code",
      "metadata": {
        "id": "CsnvKQmLrK8z",
        "colab_type": "code",
        "colab": {}
      },
      "source": [
        "# One-hot encoding\n",
        "y_train = to_categorical(y_train, 10)\n",
        "y_test = to_categorical(y_test, 10)"
      ],
      "execution_count": 0,
      "outputs": []
    },
    {
      "cell_type": "code",
      "metadata": {
        "id": "NxY-sSMmsE7O",
        "colab_type": "code",
        "colab": {}
      },
      "source": [
        "# 設定模型\n",
        "from tensorflow.keras.models import Sequential\n",
        "# 全連結神經網路\n",
        "from tensorflow.keras.layers import Dense,Flatten\n",
        "# CNN神經網路\n",
        "from tensorflow.keras.layers import Conv2D, MaxPool2D, GlobalAveragePooling2D\n",
        "from tensorflow.keras.optimizers import SGD, Adam"
      ],
      "execution_count": 0,
      "outputs": []
    },
    {
      "cell_type": "markdown",
      "metadata": {
        "id": "tcsJPsBM4Yqx",
        "colab_type": "text"
      },
      "source": [
        "## 設計神經網路"
      ]
    },
    {
      "cell_type": "code",
      "metadata": {
        "id": "t6HyivBrQSRR",
        "colab_type": "code",
        "colab": {}
      },
      "source": [
        "from tensorflow.keras.models import Model\n",
        "from tensorflow.keras.layers import Input"
      ],
      "execution_count": 0,
      "outputs": []
    },
    {
      "cell_type": "markdown",
      "metadata": {
        "id": "qpGJdp195oJ9",
        "colab_type": "text"
      },
      "source": [
        "* f_1、f_4的activation用relu\n",
        "* f_2、f_5的activation用tanh\n",
        "  * 原本f_1、f_4的activation用tanh，結果準確度很低，改成relu後準確率高很多"
      ]
    },
    {
      "cell_type": "code",
      "metadata": {
        "id": "5FNywJMMQSRU",
        "colab_type": "code",
        "colab": {}
      },
      "source": [
        "f_1 = Dense(450, activation='relu') #從某個維度->h1\n",
        "f_2 = Dense(450, activation='tanh')\n",
        "f_3 = Dense(10, activation='softmax')\n",
        "f_4 = Dense(450, activation='relu')\n",
        "f_5 = Dense(450, activation='tanh')\n"
      ],
      "execution_count": 0,
      "outputs": []
    },
    {
      "cell_type": "code",
      "metadata": {
        "id": "i3_Y2uXnQSRY",
        "colab_type": "code",
        "colab": {}
      },
      "source": [
        "x = Input(shape=(784,)) #定義第一個自變數x，設定成輸入尺寸為784維的向量"
      ],
      "execution_count": 0,
      "outputs": []
    },
    {
      "cell_type": "code",
      "metadata": {
        "id": "ETuhgb-a6yoq",
        "colab_type": "code",
        "colab": {}
      },
      "source": [
        "from tensorflow.keras.layers import concatenate, add"
      ],
      "execution_count": 0,
      "outputs": []
    },
    {
      "cell_type": "code",
      "metadata": {
        "id": "1rXK5kGhQSRd",
        "colab_type": "code",
        "colab": {}
      },
      "source": [
        "a1 = f_1(x)\n",
        "a2 = f_2(a1)\n",
        "b1 = f_4(x)\n",
        "b2 = f_5(b1)\n",
        "\n",
        "# new_f_3 = Dense(10, activation='softmax')\n",
        "z = concatenate([a2,b2]) # 利用concatenate將兩個合併成一個1000維的向量\n",
        "y = f_3(z)"
      ],
      "execution_count": 0,
      "outputs": []
    },
    {
      "cell_type": "code",
      "metadata": {
        "id": "xqHj8gufQSRh",
        "colab_type": "code",
        "outputId": "3c8a310d-3c68-4014-d4ad-2d2b74c089ed",
        "colab": {
          "base_uri": "https://localhost:8080/",
          "height": 106
        }
      },
      "source": [
        "print(a1)\n",
        "print(a2)\n",
        "print(b1)\n",
        "print(b2)\n",
        "print(y)#輸出為10維向量"
      ],
      "execution_count": 24,
      "outputs": [
        {
          "output_type": "stream",
          "text": [
            "Tensor(\"dense_5/Identity:0\", shape=(None, 450), dtype=float32)\n",
            "Tensor(\"dense_6/Identity:0\", shape=(None, 450), dtype=float32)\n",
            "Tensor(\"dense_8/Identity:0\", shape=(None, 450), dtype=float32)\n",
            "Tensor(\"dense_9/Identity:0\", shape=(None, 450), dtype=float32)\n",
            "Tensor(\"dense_7/Identity:0\", shape=(None, 10), dtype=float32)\n"
          ],
          "name": "stdout"
        }
      ]
    },
    {
      "cell_type": "code",
      "metadata": {
        "id": "aMn_XR_wQSRj",
        "colab_type": "code",
        "outputId": "79fa77f6-cc58-49bb-8749-b09e01906e68",
        "colab": {
          "base_uri": "https://localhost:8080/",
          "height": 446
        }
      },
      "source": [
        "#神經網路架構\n",
        "model = Model(x, y)\n",
        "model.summary()"
      ],
      "execution_count": 25,
      "outputs": [
        {
          "output_type": "stream",
          "text": [
            "Model: \"model_1\"\n",
            "__________________________________________________________________________________________________\n",
            "Layer (type)                    Output Shape         Param #     Connected to                     \n",
            "==================================================================================================\n",
            "input_2 (InputLayer)            [(None, 784)]        0                                            \n",
            "__________________________________________________________________________________________________\n",
            "dense_5 (Dense)                 (None, 450)          353250      input_2[0][0]                    \n",
            "__________________________________________________________________________________________________\n",
            "dense_8 (Dense)                 (None, 450)          353250      input_2[0][0]                    \n",
            "__________________________________________________________________________________________________\n",
            "dense_6 (Dense)                 (None, 450)          202950      dense_5[0][0]                    \n",
            "__________________________________________________________________________________________________\n",
            "dense_9 (Dense)                 (None, 450)          202950      dense_8[0][0]                    \n",
            "__________________________________________________________________________________________________\n",
            "concatenate_1 (Concatenate)     (None, 900)          0           dense_6[0][0]                    \n",
            "                                                                 dense_9[0][0]                    \n",
            "__________________________________________________________________________________________________\n",
            "dense_7 (Dense)                 (None, 10)           9010        concatenate_1[0][0]              \n",
            "==================================================================================================\n",
            "Total params: 1,121,410\n",
            "Trainable params: 1,121,410\n",
            "Non-trainable params: 0\n",
            "__________________________________________________________________________________________________\n"
          ],
          "name": "stdout"
        }
      ]
    },
    {
      "cell_type": "code",
      "metadata": {
        "id": "n2EMOggkQSRl",
        "colab_type": "code",
        "colab": {}
      },
      "source": [
        "# 組裝\n",
        "model.compile(loss='mse', optimizer=Adam(), metrics=['accuracy'])"
      ],
      "execution_count": 0,
      "outputs": []
    },
    {
      "cell_type": "code",
      "metadata": {
        "id": "LzOI_qPkQSRm",
        "colab_type": "code",
        "outputId": "f2741b48-4d3b-4897-d5ce-9db681bbcdd8",
        "colab": {
          "base_uri": "https://localhost:8080/",
          "height": 232
        }
      },
      "source": [
        "# 訓練\n",
        "model.fit(X_train, y_train, batch_size=256, epochs=5)"
      ],
      "execution_count": 27,
      "outputs": [
        {
          "output_type": "stream",
          "text": [
            "Epoch 1/5\n",
            "235/235 [==============================] - 8s 36ms/step - loss: 0.0117 - accuracy: 0.9222\n",
            "Epoch 2/5\n",
            "235/235 [==============================] - 8s 35ms/step - loss: 0.0046 - accuracy: 0.9704\n",
            "Epoch 3/5\n",
            "235/235 [==============================] - 8s 35ms/step - loss: 0.0031 - accuracy: 0.9802\n",
            "Epoch 4/5\n",
            "235/235 [==============================] - 8s 35ms/step - loss: 0.0024 - accuracy: 0.9847\n",
            "Epoch 5/5\n",
            "235/235 [==============================] - 8s 35ms/step - loss: 0.0020 - accuracy: 0.9875\n"
          ],
          "name": "stdout"
        },
        {
          "output_type": "execute_result",
          "data": {
            "text/plain": [
              "<tensorflow.python.keras.callbacks.History at 0x7ff1fc88eb38>"
            ]
          },
          "metadata": {
            "tags": []
          },
          "execution_count": 27
        }
      ]
    },
    {
      "cell_type": "code",
      "metadata": {
        "id": "Hn_-HzEsQSRp",
        "colab_type": "code",
        "colab": {}
      },
      "source": [
        "model.save_weights('Functional_Api_Model.h5')"
      ],
      "execution_count": 0,
      "outputs": []
    },
    {
      "cell_type": "code",
      "metadata": {
        "id": "u2b_Y2L8QSRr",
        "colab_type": "code",
        "outputId": "a1619d36-3bb5-4d35-8a70-ed74e371fa19",
        "colab": {
          "base_uri": "https://localhost:8080/",
          "height": 124
        }
      },
      "source": [
        "Train_score = model.evaluate(X_train, y_train, batch_size=10000)\n",
        "print(f'Train Loss: {Train_score[0]}')\n",
        "print(f'Train 準確率: {Train_score[1]*100}')\n",
        "Test_score = model.evaluate(X_test, y_test, batch_size=10000)\n",
        "print(f'Test Loss: {Test_score[0]}')\n",
        "print(f'Test 準確率: {Test_score[1]*100}')"
      ],
      "execution_count": 29,
      "outputs": [
        {
          "output_type": "stream",
          "text": [
            "6/6 [==============================] - 2s 337ms/step - loss: 0.0015 - accuracy: 0.9911\n",
            "Train Loss: 0.0014655253617092967\n",
            "Train 準確率: 99.10833239555359\n",
            "1/1 [==============================] - 0s 1ms/step - loss: 0.0033 - accuracy: 0.9785\n",
            "Test Loss: 0.0033431320916861296\n",
            "Test 準確率: 97.85000085830688\n"
          ],
          "name": "stdout"
        }
      ]
    },
    {
      "cell_type": "markdown",
      "metadata": {
        "id": "-XoU3ODZB1xE",
        "colab_type": "text"
      },
      "source": [
        "# 架構圖\n",
        "* 插入圖片教學： https://www.youtube.com/watch?v=vlheEeZd6lY\n",
        "\n",
        "<img src=\"https://drive.google.com/uc?id=1It3tqQmJLFMDSy36O9Ek2NxZIxr20GD7\" width=\"400\" />\n",
        "\n"
      ]
    },
    {
      "cell_type": "code",
      "metadata": {
        "id": "NDVvTQVsQSSf",
        "colab_type": "code",
        "colab": {}
      },
      "source": [
        ""
      ],
      "execution_count": 0,
      "outputs": []
    }
  ]
}