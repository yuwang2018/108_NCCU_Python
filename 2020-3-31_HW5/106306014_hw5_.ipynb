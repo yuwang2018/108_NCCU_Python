{
 "cells": [
  {
   "cell_type": "code",
   "execution_count": 1,
   "metadata": {},
   "outputs": [],
   "source": [
    "%matplotlib inline\n",
    "\n",
    "import numpy as np\n",
    "import matplotlib.pyplot as plt"
   ]
  },
  {
   "cell_type": "markdown",
   "metadata": {},
   "source": [
    "## 1. 讀入 Fashion MNSIT 數據集"
   ]
  },
  {
   "cell_type": "code",
   "execution_count": 2,
   "metadata": {},
   "outputs": [],
   "source": [
    "from tensorflow.keras.datasets import fashion_mnist"
   ]
  },
  {
   "cell_type": "code",
   "execution_count": 3,
   "metadata": {},
   "outputs": [],
   "source": [
    "(x_train, y_train), (x_test, y_test) = fashion_mnist.load_data()"
   ]
  },
  {
   "cell_type": "markdown",
   "metadata": {},
   "source": [
    "## 2. 欣賞數據集內容"
   ]
  },
  {
   "cell_type": "code",
   "execution_count": 4,
   "metadata": {},
   "outputs": [],
   "source": [
    "class_names = ['T-shirt/top', 'Trouser', 'Pullover', 'Dress', 'Coat',\n",
    "               'Sandal', 'Shirt', 'Sneaker', 'Bag', 'Ankle boot']"
   ]
  },
  {
   "cell_type": "code",
   "execution_count": 5,
   "metadata": {},
   "outputs": [
    {
     "name": "stdout",
     "output_type": "stream",
     "text": [
      "這是 Bag\n"
     ]
    },
    {
     "data": {
      "image/png": "[encoded data removed]",
      "text/plain": [
       "<Figure size 432x288 with 1 Axes>"
      ]
     },
     "metadata": {
      "needs_background": "light"
     },
     "output_type": "display_data"
    }
   ],
   "source": [
    "n = 1234\n",
    "print('這是', class_names[y_train[n]])\n",
    "plt.imshow(x_train[n], cmap='Greys');"
   ]
  },
  {
   "cell_type": "code",
   "execution_count": 6,
   "metadata": {},
   "outputs": [
    {
     "data": {
      "image/png": "[encoded data removed]",
      "text/plain": [
       "<Figure size 432x288 with 5 Axes>"
      ]
     },
     "metadata": {},
     "output_type": "display_data"
    }
   ],
   "source": [
    "pick = np.random.choice(60000, 5, replace=False)\n",
    "\n",
    "for i in range(5):\n",
    "    n = pick[i]\n",
    "    ax = plt.subplot(151+i)\n",
    "    ax.set_xticks([])\n",
    "    ax.set_yticks([])\n",
    "    ax.set_title(class_names[y_train[n]], fontsize=10)\n",
    "    plt.imshow(x_train[n], cmap='Greys')"
   ]
  },
  {
   "cell_type": "markdown",
   "metadata": {},
   "source": [
    "## 3.資料整理"
   ]
  },
  {
   "cell_type": "code",
   "execution_count": 7,
   "metadata": {},
   "outputs": [],
   "source": [
    "x_train = x_train/255\n",
    "x_test = x_test/255"
   ]
  },
  {
   "cell_type": "code",
   "execution_count": 8,
   "metadata": {},
   "outputs": [
    {
     "data": {
      "text/plain": [
       "(60000, 28, 28)"
      ]
     },
     "execution_count": 8,
     "metadata": {},
     "output_type": "execute_result"
    }
   ],
   "source": [
    "x_train.shape"
   ]
  },
  {
   "cell_type": "code",
   "execution_count": 9,
   "metadata": {},
   "outputs": [
    {
     "data": {
      "text/plain": [
       "array([[0., 0., 0., ..., 0., 0., 0.],\n",
       "       [0., 0., 0., ..., 0., 0., 0.],\n",
       "       [0., 0., 0., ..., 0., 0., 0.],\n",
       "       ...,\n",
       "       [0., 0., 0., ..., 0., 0., 0.],\n",
       "       [0., 0., 0., ..., 0., 0., 0.],\n",
       "       [0., 0., 0., ..., 0., 0., 0.]])"
      ]
     },
     "execution_count": 9,
     "metadata": {},
     "output_type": "execute_result"
    }
   ],
   "source": [
    "x_train = x_train.reshape(len(x_train),28*28)\n",
    "x_train"
   ]
  },
  {
   "cell_type": "code",
   "execution_count": 10,
   "metadata": {},
   "outputs": [
    {
     "data": {
      "text/plain": [
       "array([[0., 0., 0., ..., 0., 0., 0.],\n",
       "       [0., 0., 0., ..., 0., 0., 0.],\n",
       "       [0., 0., 0., ..., 0., 0., 0.],\n",
       "       ...,\n",
       "       [0., 0., 0., ..., 0., 0., 0.],\n",
       "       [0., 0., 0., ..., 0., 0., 0.],\n",
       "       [0., 0., 0., ..., 0., 0., 0.]])"
      ]
     },
     "execution_count": 10,
     "metadata": {},
     "output_type": "execute_result"
    }
   ],
   "source": [
    "x_test = x_test.reshape(len(x_test),28*28)\n",
    "x_test"
   ]
  },
  {
   "cell_type": "markdown",
   "metadata": {},
   "source": [
    "reference:https://ithelp.ithome.com.tw/articles/10197084"
   ]
  },
  {
   "cell_type": "code",
   "execution_count": 11,
   "metadata": {},
   "outputs": [],
   "source": [
    "#由於電腦無法理解非數字類的數據，One-hot編碼可以將類別性數據轉換成統一的數字格式，方便機器學習的演算法進行處理及計算\n",
    "#使用one-hot進行轉換\n",
    "from tensorflow.keras.utils import to_categorical"
   ]
  },
  {
   "cell_type": "code",
   "execution_count": 12,
   "metadata": {},
   "outputs": [],
   "source": [
    "y_train = to_categorical(y_train,10)\n",
    "y_test = to_categorical(y_test,10)"
   ]
  },
  {
   "cell_type": "markdown",
   "metadata": {},
   "source": [
    "## 設計神經網路"
   ]
  },
  {
   "cell_type": "code",
   "execution_count": 13,
   "metadata": {},
   "outputs": [],
   "source": [
    "#設定模型\n",
    "from tensorflow.keras.models import Sequential\n",
    "#設定每一層的長相\n",
    "from tensorflow.keras.layers import Dense # dense：全連結神經層\n",
    "from tensorflow.keras.optimizers import SGD # SGD：隨機梯度下降法(最標準的學習方式)"
   ]
  },
  {
   "cell_type": "code",
   "execution_count": 14,
   "metadata": {},
   "outputs": [],
   "source": [
    "model = Sequential()\n",
    "#打造函數學習機"
   ]
  },
  {
   "cell_type": "code",
   "execution_count": 15,
   "metadata": {},
   "outputs": [],
   "source": [
    "model.add(Dense(87,input_dim=784, activation='relu'))\n",
    "#87個輸入/神經元，維度:784\n",
    "#activation：激勵函數，主要是利用非線性方程式，解決非線性問題"
   ]
  },
  {
   "cell_type": "code",
   "execution_count": 16,
   "metadata": {},
   "outputs": [],
   "source": [
    "model.add(Dense(87, activation='relu'))"
   ]
  },
  {
   "cell_type": "code",
   "execution_count": 17,
   "metadata": {},
   "outputs": [],
   "source": [
    "#輸出\n",
    "model.add(Dense(10, activation='softmax'))\n",
    "#softmax:是輸出的每一列的和為1"
   ]
  },
  {
   "cell_type": "markdown",
   "metadata": {},
   "source": [
    "## 4.組裝神經網路"
   ]
  },
  {
   "cell_type": "code",
   "execution_count": 18,
   "metadata": {},
   "outputs": [],
   "source": [
    "model.compile(loss='mse',optimizer=SGD(lr=0.087),metrics=['accuracy'])"
   ]
  },
  {
   "cell_type": "code",
   "execution_count": 19,
   "metadata": {},
   "outputs": [
    {
     "name": "stdout",
     "output_type": "stream",
     "text": [
      "Model: \"sequential\"\n",
      "_________________________________________________________________\n",
      "Layer (type)                 Output Shape              Param #   \n",
      "=================================================================\n",
      "dense (Dense)                (None, 87)                68295     \n",
      "_________________________________________________________________\n",
      "dense_1 (Dense)              (None, 87)                7656      \n",
      "_________________________________________________________________\n",
      "dense_2 (Dense)              (None, 10)                880       \n",
      "=================================================================\n",
      "Total params: 76,831\n",
      "Trainable params: 76,831\n",
      "Non-trainable params: 0\n",
      "_________________________________________________________________\n"
     ]
    }
   ],
   "source": [
    "#神經網路架構\n",
    "model.summary()"
   ]
  },
  {
   "cell_type": "markdown",
   "metadata": {},
   "source": [
    "## 5.訓練神經網路"
   ]
  },
  {
   "cell_type": "code",
   "execution_count": 25,
   "metadata": {},
   "outputs": [
    {
     "name": "stdout",
     "output_type": "stream",
     "text": [
      "Train on 60000 samples\n",
      "Epoch 1/50\n",
      "60000/60000 [==============================] - 12s 196us/sample - loss: 0.0184 - accuracy: 0.8766\n",
      "Epoch 2/50\n",
      "60000/60000 [==============================] - 2s 39us/sample - loss: 0.0183 - accuracy: 0.8776\n",
      "Epoch 3/50\n",
      "60000/60000 [==============================] - 3s 46us/sample - loss: 0.0182 - accuracy: 0.8778\n",
      "Epoch 4/50\n",
      "60000/60000 [==============================] - 2s 40us/sample - loss: 0.0181 - accuracy: 0.8793\n",
      "Epoch 5/50\n",
      "60000/60000 [==============================] - 3s 58us/sample - loss: 0.0181 - accuracy: 0.8793\n",
      "Epoch 6/50\n",
      "60000/60000 [==============================] - 3s 44us/sample - loss: 0.0180 - accuracy: 0.8795\n",
      "Epoch 7/50\n",
      "60000/60000 [==============================] - 3s 44us/sample - loss: 0.0179 - accuracy: 0.8802\n",
      "Epoch 8/50\n",
      "60000/60000 [==============================] - 3s 44us/sample - loss: 0.0178 - accuracy: 0.8813\n",
      "Epoch 9/50\n",
      "60000/60000 [==============================] - 3s 43us/sample - loss: 0.0177 - accuracy: 0.8820\n",
      "Epoch 10/50\n",
      "60000/60000 [==============================] - 3s 44us/sample - loss: 0.0176 - accuracy: 0.8822\n",
      "Epoch 11/50\n",
      "60000/60000 [==============================] - 3s 43us/sample - loss: 0.0176 - accuracy: 0.8821\n",
      "Epoch 12/50\n",
      "60000/60000 [==============================] - 4s 62us/sample - loss: 0.0175 - accuracy: 0.8835\n",
      "Epoch 13/50\n",
      "60000/60000 [==============================] - 3s 48us/sample - loss: 0.0175 - accuracy: 0.8838\n",
      "Epoch 14/50\n",
      "60000/60000 [==============================] - 3s 50us/sample - loss: 0.0174 - accuracy: 0.8835\n",
      "Epoch 15/50\n",
      "60000/60000 [==============================] - 4s 70us/sample - loss: 0.0173 - accuracy: 0.8843\n",
      "Epoch 16/50\n",
      "60000/60000 [==============================] - 4s 72us/sample - loss: 0.0173 - accuracy: 0.8853\n",
      "Epoch 17/50\n",
      "60000/60000 [==============================] - 4s 71us/sample - loss: 0.0172 - accuracy: 0.8858\n",
      "Epoch 18/50\n",
      "60000/60000 [==============================] - 4s 61us/sample - loss: 0.0171 - accuracy: 0.8857\n",
      "Epoch 19/50\n",
      "60000/60000 [==============================] - 3s 51us/sample - loss: 0.0170 - accuracy: 0.8864\n",
      "Epoch 20/50\n",
      "60000/60000 [==============================] - 2s 39us/sample - loss: 0.0170 - accuracy: 0.8862\n",
      "Epoch 21/50\n",
      "60000/60000 [==============================] - 3s 48us/sample - loss: 0.0169 - accuracy: 0.8872\n",
      "Epoch 22/50\n",
      "60000/60000 [==============================] - 2s 40us/sample - loss: 0.0168 - accuracy: 0.8881\n",
      "Epoch 23/50\n",
      "60000/60000 [==============================] - 4s 67us/sample - loss: 0.0168 - accuracy: 0.8882\n",
      "Epoch 24/50\n",
      "60000/60000 [==============================] - 2s 40us/sample - loss: 0.0167 - accuracy: 0.8887\n",
      "Epoch 25/50\n",
      "60000/60000 [==============================] - 3s 45us/sample - loss: 0.0167 - accuracy: 0.8893\n",
      "Epoch 26/50\n",
      "60000/60000 [==============================] - 3s 51us/sample - loss: 0.0166 - accuracy: 0.8895\n",
      "Epoch 27/50\n",
      "60000/60000 [==============================] - 3s 53us/sample - loss: 0.0166 - accuracy: 0.8900\n",
      "Epoch 28/50\n",
      "60000/60000 [==============================] - 2s 41us/sample - loss: 0.0165 - accuracy: 0.8899\n",
      "Epoch 29/50\n",
      "60000/60000 [==============================] - 3s 47us/sample - loss: 0.0165 - accuracy: 0.8912\n",
      "Epoch 30/50\n",
      "60000/60000 [==============================] - 3s 48us/sample - loss: 0.0164 - accuracy: 0.8908\n",
      "Epoch 31/50\n",
      "60000/60000 [==============================] - 3s 55us/sample - loss: 0.0164 - accuracy: 0.8908\n",
      "Epoch 32/50\n",
      "60000/60000 [==============================] - 3s 53us/sample - loss: 0.0163 - accuracy: 0.8920\n",
      "Epoch 33/50\n",
      "60000/60000 [==============================] - 3s 57us/sample - loss: 0.0163 - accuracy: 0.8925\n",
      "Epoch 34/50\n",
      "60000/60000 [==============================] - 3s 48us/sample - loss: 0.0162 - accuracy: 0.8923\n",
      "Epoch 35/50\n",
      "60000/60000 [==============================] - 4s 63us/sample - loss: 0.0161 - accuracy: 0.8932\n",
      "Epoch 36/50\n",
      "60000/60000 [==============================] - 4s 61us/sample - loss: 0.0161 - accuracy: 0.8934\n",
      "Epoch 37/50\n",
      "60000/60000 [==============================] - 4s 71us/sample - loss: 0.0161 - accuracy: 0.8940\n",
      "Epoch 38/50\n",
      "60000/60000 [==============================] - 3s 46us/sample - loss: 0.0160 - accuracy: 0.8933\n",
      "Epoch 39/50\n",
      "60000/60000 [==============================] - 2s 40us/sample - loss: 0.0160 - accuracy: 0.8944\n",
      "Epoch 40/50\n",
      "60000/60000 [==============================] - 2s 39us/sample - loss: 0.0159 - accuracy: 0.8955\n",
      "Epoch 41/50\n",
      "60000/60000 [==============================] - 4s 60us/sample - loss: 0.0158 - accuracy: 0.8955\n",
      "Epoch 42/50\n",
      "60000/60000 [==============================] - 3s 51us/sample - loss: 0.0158 - accuracy: 0.8957\n",
      "Epoch 43/50\n",
      "60000/60000 [==============================] - 3s 48us/sample - loss: 0.0158 - accuracy: 0.8955\n",
      "Epoch 44/50\n",
      "60000/60000 [==============================] - 6s 101us/sample - loss: 0.0157 - accuracy: 0.8956\n",
      "Epoch 45/50\n",
      "60000/60000 [==============================] - 5s 85us/sample - loss: 0.0157 - accuracy: 0.8971\n",
      "Epoch 46/50\n",
      "60000/60000 [==============================] - 5s 85us/sample - loss: 0.0156 - accuracy: 0.8965\n",
      "Epoch 47/50\n",
      "60000/60000 [==============================] - 5s 89us/sample - loss: 0.0156 - accuracy: 0.8970\n",
      "Epoch 48/50\n",
      "60000/60000 [==============================] - 3s 49us/sample - loss: 0.0155 - accuracy: 0.8974\n",
      "Epoch 49/50\n",
      "60000/60000 [==============================] - 4s 63us/sample - loss: 0.0155 - accuracy: 0.8973\n",
      "Epoch 50/50\n",
      "60000/60000 [==============================] - 3s 51us/sample - loss: 0.0154 - accuracy: 0.8983\n"
     ]
    },
    {
     "data": {
      "text/plain": [
       "<tensorflow.python.keras.callbacks.History at 0x1d4c4632c88>"
      ]
     },
     "execution_count": 25,
     "metadata": {},
     "output_type": "execute_result"
    }
   ],
   "source": [
    "#舉例：有一個2000個訓練樣本的資料集。將2000個樣本分成大小為500的batch,那麼完成一個epoch需要4個iteration。\n",
    "model.fit(x_train, y_train, batch_size=100, epochs=50)"
   ]
  },
  {
   "cell_type": "markdown",
   "metadata": {},
   "source": [
    "# 6.訓練成果"
   ]
  },
  {
   "cell_type": "code",
   "execution_count": 26,
   "metadata": {},
   "outputs": [],
   "source": [
    "from ipywidgets import interact_manual"
   ]
  },
  {
   "cell_type": "code",
   "execution_count": 27,
   "metadata": {},
   "outputs": [],
   "source": [
    "predict = model.predict_classes(x_test)"
   ]
  },
  {
   "cell_type": "code",
   "execution_count": 28,
   "metadata": {},
   "outputs": [],
   "source": [
    "def test(n):\n",
    "    plt.imshow(x_test[n].reshape(28,28), cmap='Greys')\n",
    "    print('神經網路判斷為:',class_names[predict[n]])"
   ]
  },
  {
   "cell_type": "code",
   "execution_count": 29,
   "metadata": {},
   "outputs": [
    {
     "data": {
      "application/vnd.jupyter.widget-view+json": {
       "model_id": "18d280691a684f2cb83cf759b5abe6b0",
       "version_major": 2,
       "version_minor": 0
      },
      "text/plain": [
       "interactive(children=(IntSlider(value=4999, description='n', max=9999), Button(description='Run Interact', sty…"
      ]
     },
     "metadata": {},
     "output_type": "display_data"
    },
    {
     "data": {
      "text/plain": [
       "<function __main__.test(n)>"
      ]
     },
     "execution_count": 29,
     "metadata": {},
     "output_type": "execute_result"
    }
   ],
   "source": [
    "interact_manual(test,n = (0,9999))"
   ]
  },
  {
   "cell_type": "code",
   "execution_count": null,
   "metadata": {},
   "outputs": [],
   "source": []
  }
 ],
 "metadata": {
  "kernelspec": {
   "display_name": "Python 3",
   "language": "python",
   "name": "python3"
  },
  "language_info": {
   "codemirror_mode": {
    "name": "ipython",
    "version": 3
   },
   "file_extension": ".py",
   "mimetype": "text/x-python",
   "name": "python",
   "nbconvert_exporter": "python",
   "pygments_lexer": "ipython3",
   "version": "3.7.3"
  }
 },
 "nbformat": 4,
 "nbformat_minor": 2
}
