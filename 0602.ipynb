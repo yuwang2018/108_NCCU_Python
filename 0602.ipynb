{
 "cells": [
  {
   "cell_type": "code",
   "execution_count": 3,
   "metadata": {},
   "outputs": [
    {
     "ename": "SyntaxError",
     "evalue": "invalid syntax (<ipython-input-3-312a309022fa>, line 2)",
     "output_type": "error",
     "traceback": [
      "\u001b[1;36m  File \u001b[1;32m\"<ipython-input-3-312a309022fa>\"\u001b[1;36m, line \u001b[1;32m2\u001b[0m\n\u001b[1;33m    pip install pillow\u001b[0m\n\u001b[1;37m              ^\u001b[0m\n\u001b[1;31mSyntaxError\u001b[0m\u001b[1;31m:\u001b[0m invalid syntax\n"
     ]
    }
   ],
   "source": []
  },
  {
   "cell_type": "code",
   "execution_count": 4,
   "metadata": {},
   "outputs": [
    {
     "name": "stdout",
     "output_type": "stream",
     "text": [
      "Requirement already satisfied: jieba in c:\\anaconda3\\lib\\site-packages (0.42.1)\n",
      "Note: you may need to restart the kernel to use updated packages.\n"
     ]
    }
   ],
   "source": [
    "pip install jieba"
   ]
  },
  {
   "cell_type": "code",
   "execution_count": 5,
   "metadata": {},
   "outputs": [
    {
     "ename": "SyntaxError",
     "evalue": "invalid syntax (<ipython-input-5-312a309022fa>, line 2)",
     "output_type": "error",
     "traceback": [
      "\u001b[1;36m  File \u001b[1;32m\"<ipython-input-5-312a309022fa>\"\u001b[1;36m, line \u001b[1;32m2\u001b[0m\n\u001b[1;33m    pip install pillow\u001b[0m\n\u001b[1;37m              ^\u001b[0m\n\u001b[1;31mSyntaxError\u001b[0m\u001b[1;31m:\u001b[0m invalid syntax\n"
     ]
    }
   ],
   "source": [
    "# 下載套件以進行影像處理 \n",
    "pip install pillow"
   ]
  },
  {
   "cell_type": "code",
   "execution_count": 27,
   "metadata": {},
   "outputs": [],
   "source": [
    "# 爬蟲\n",
    "%matplotlib inline\n",
    "\n",
    "import numpy as np\n",
    "import matplotlib.pyplot as plt\n",
    "import pandas as pd\n",
    "\n",
    "#斷詞所需套件\n",
    "import jieba\n",
    "# 爬蟲所需套件\n",
    "import requests\n",
    "from bs4 import BeautifulSoup\n",
    "from googletrans import Translator\n",
    "#GUI介面-tkinter所需套件\n",
    "from tkinter import *\n",
    "import tkinter as tk\n",
    "#匯入Python Imaging Library \n",
    "from PIL import ImageTk, Image \n",
    "#檔案對話方塊所需套件\n",
    "from tkinter import filedialog"
   ]
  },
  {
   "cell_type": "code",
   "execution_count": 28,
   "metadata": {},
   "outputs": [],
   "source": [
    "target ='Banana'\n",
    "def open_img(): \n",
    "    # 圖片檔案位置x\n",
    "    global x \n",
    "    x = openfilename() \n",
    "    # 開啟圖片 \n",
    "    img = Image.open(x) \n",
    "    # ANTIALIAS:平滑濾波，用於改變圖片尺寸  resize the image and apply a high-quality down sampling filter \n",
    "    img = img.resize((200, 200), Image.ANTIALIAS) \n",
    "    # PhotoImage:建立圖片物件，使用label顯示圖片 \n",
    "    img = ImageTk.PhotoImage(img) \n",
    "    # 創建label \n",
    "    panel = Label(window, image = img,bg='white') \n",
    "    # set the image as img \n",
    "    panel.image = img \n",
    "    panel.pack(side='left',ipadx=10, padx=1)\n",
    "    \n",
    "def identify():\n",
    "    file_path = x\n",
    "    # read file with tf.io.read_file\n",
    "    img = tf.io.read_file(file_path)\n",
    "    img = decode_img(img)\n",
    "    # identify and get the class of fruit image\n",
    "    image_class = model.predict_classes(tf.reshape(img, [1,64,64,3]))[0]\n",
    "  #  global predict_name\n",
    "    predict_name = class_name[image_class]   \n",
    "    #進行斷詞\n",
    "    list=jieba.lcut(predict_name)\n",
    "    #將大寫變小寫 \n",
    "    global target\n",
    "    target = list[0].lower()\n",
    "    # print the result of identification\n",
    "    identify_label = tk.Label(window,text=predict_name,width=10,height=10,justify='left',bg='white')\n",
    "    identify_label.pack(side='right',ipadx=10,padx=1)\n",
    "\n",
    "    \n",
    "import tkinter.ttk as ttk\n",
    "import csv\n",
    "# 讀入中文營養資訊 & 整理 & 輸出csv檔\n",
    "def OutputCSV():   \n",
    "    df = pd.read_html('https://docs.google.com/spreadsheets/d/e/2PACX-1vRACnRPosGeh5QPwLuU53UTOjbQf7uSZHnjDp2ecab8_AFE6yjaIxForntAtBahScFSCYlGh9mVhI-x/pubhtml',encoding='utf-8')\n",
    "    t1 = df[0]\n",
    "    # 調整表頭名稱\n",
    "    t1.columns=['#','分析項分類','分析項','單位','每100克含量','名稱']\n",
    "    t2 = t1.drop(\"#\",axis = 1) #刪除1st行\n",
    "    t3 = t2.drop([0],axis = 0) #刪除1st列\n",
    "    # 篩選符合predict_name的蔬果名稱，產出新的df\n",
    "    newdf = t3[t3.名稱.str.contains(target)]\n",
    "    # 將df轉成csv檔\n",
    "    Result = 'D:/nutri_result.csv'\n",
    "    newdf.to_csv( Result )\n",
    "    \n",
    "\n",
    "OutputCSV()"
   ]
  },
  {
   "cell_type": "code",
   "execution_count": 29,
   "metadata": {},
   "outputs": [],
   "source": [
    "def openfilename(): \n",
    "    # 開啟檔案對話方塊，並將檔案位置回傳\n",
    "    filename = filedialog.askopenfilename(title ='Open') \n",
    "    return filename \n",
    "\n",
    "def printSomething():\n",
    "    #爬取目標網址\n",
    "    target_name = target.lower()\n",
    "    url ='https://fruitsandveggies.org/fruits-and-veggies/'+target+'/'\n",
    "    resp = requests.get(url)\n",
    "    #若找不到相對網址則顯示'Could not find the relevant information'\n",
    "    if (resp.status_code == 404):\n",
    "        text = 'Sorry,we could not find the relevant information.'\n",
    "    #若找到相對網址則進行爬蟲\n",
    "    else:\n",
    "        soup = BeautifulSoup(resp.text,'lxml')\n",
    "        page = soup.find_all('div',class_='l-grid-item-medium-12')\n",
    "        \n",
    "        title = page[0].find_all('h4')\n",
    "        content = page[0].find_all('p')\n",
    "        for i in range(len(title)):\n",
    "            if(i==2):\n",
    "                text = '●'+title[i].get_text()+'\\n'+content[2].get_text()+'\\n'\n",
    "            elif(i==3):\n",
    "                text = '●'+title[i].get_text()+'\\n'+content[2].get_text()+'\\n'\n",
    "                for i in range(len(content)):\n",
    "                    if(i>2 and i<6):\n",
    "                        if(i%2 == 1):\n",
    "                            text = text + '●' + content[i].get_text() +'\\n' \n",
    "                        else:                    \n",
    "                            text = text + content[i].get_text() +'\\n' \n",
    "                    elif(i>6):\n",
    "                        if(i%2 == 0):\n",
    "                            text = text + '●' + content[i].get_text() +'\\n' \n",
    "                        else:\n",
    "                            text = text + content[i].get_text() +'\\n'\n",
    "\n",
    "    # 將所得到之內容以google翻譯翻譯成中文\n",
    "    pipi = Translator()\n",
    "    result = pipi.translate(text,dest='zh-tw')\n",
    "    result_label = tk.Label(window,text=result.text,width=50,height=50,wraplength=260,justify='left',bg='white')\n",
    "    result_label.pack(side='right',ipadx=10,padx=1)"
   ]
  },
  {
   "cell_type": "code",
   "execution_count": 30,
   "metadata": {},
   "outputs": [],
   "source": [
    "# 營養資訊表格視窗\n",
    "def printNutriTable():\n",
    "    root = Tk()\n",
    "    root.title(\"Nutrition Table\")\n",
    "    width = 700\n",
    "    height = 400\n",
    "    screen_width = root.winfo_screenwidth()\n",
    "    screen_height = root.winfo_screenheight()\n",
    "    x = (screen_width / 2) - (width / 2)\n",
    "    y = (screen_height / 2) - (height / 2)\n",
    "    root.geometry(\"%dx%d+%d+%d\" % (width, height, x, y))\n",
    "    root.resizable(0, 0)\n",
    "\n",
    "    TableMargin = Frame(root, width=500)\n",
    "    TableMargin.pack(side=TOP)\n",
    "\n",
    "    scrollbarx = Scrollbar(TableMargin, orient=HORIZONTAL)\n",
    "    scrollbary = Scrollbar(TableMargin, orient=VERTICAL)\n",
    "    #設定表格尺寸與欄位名稱\n",
    "    tree = ttk.Treeview(TableMargin, columns=('分析項分類','分析項','單位','每100克含量','名稱'), height=400, selectmode=\"extended\",\n",
    "                        yscrollcommand=scrollbary.set, xscrollcommand=scrollbarx.set)\n",
    "    scrollbary.config(command=tree.yview)\n",
    "    scrollbary.pack(side=RIGHT, fill=Y)\n",
    "    scrollbarx.config(command=tree.xview)\n",
    "    scrollbarx.pack(side=BOTTOM, fill=X)\n",
    "    tree.heading('分析項分類', text='分析項分類', anchor=W)\n",
    "    tree.heading('分析項', text='分析項', anchor=W)\n",
    "    tree.heading('單位', text='單位', anchor=W)\n",
    "    tree.heading('每100克含量', text='每100克含量', anchor=W)\n",
    "    tree.heading('名稱', text='名稱', anchor=W)\n",
    "    tree.column('#0', stretch=NO, minwidth=0, width=0)\n",
    "    tree.column('#1', stretch=NO, minwidth=0, width=90) #調整表頭欄位尺寸\n",
    "    tree.column('#2', stretch=NO, minwidth=0, width=130)\n",
    "    tree.column('#3', stretch=NO, minwidth=0, width=50)\n",
    "    tree.column('#4', stretch=NO, minwidth=0, width=100)\n",
    "    tree.column('#5', stretch=NO, minwidth=0, width=160)\n",
    "    tree.pack()\n",
    "    \n",
    "   #http://passionfruittaiwan.blogspot.com/2019/01/python.html\n",
    "\n",
    "    # 開啟中文營養資訊csv檔\n",
    "    with open('D:/nutri_result.csv', 'r',encoding='utf-8') as f:\n",
    "        # 讀取中文營養資訊csv檔\n",
    "      reader = csv.DictReader(f, delimiter=',')\n",
    "    #reader = pd.read_csv(r'\\Users\\wenruiling\\Downloads\\nutri_result.csv', 'r',encoding='utf-8')\n",
    "    # 以迴圈輸出指定欄位\n",
    "      for row in reader:          \n",
    "        tag = row['分析項分類']\n",
    "        nutri = row['分析項']\n",
    "        unit = row['單位']\n",
    "        has = row['每100克含量']\n",
    "        name = row['名稱']\n",
    "        # predict_name：欲篩選的蔬果名稱    \n",
    "        # 比對predict_name和中文營養資訊檔案，將符合的資料插入表格中呈現\n",
    "        if target in row['名稱']: \n",
    "            tree.insert(\"\", 0, values=(tag,nutri,unit,has,name))"
   ]
  },
  {
   "cell_type": "code",
   "execution_count": null,
   "metadata": {},
   "outputs": [
    {
     "name": "stderr",
     "output_type": "stream",
     "text": [
      "Exception in Tkinter callback\n",
      "Traceback (most recent call last):\n",
      "  File \"C:\\Anaconda3\\lib\\tkinter\\__init__.py\", line 1705, in __call__\n",
      "    return self.func(*args)\n",
      "  File \"<ipython-input-28-c462707e2344>\", line 19, in identify\n",
      "    file_path = x\n",
      "NameError: name 'x' is not defined\n"
     ]
    }
   ],
   "source": [
    "# 創建視窗\n",
    "window = tk.Tk()\n",
    "\n",
    "# 設定視窗標題\n",
    "window.title(\"Fruit \") \n",
    "\n",
    "# 視窗大小設定及背景顏色 \n",
    "window.geometry(\"600x600\") \n",
    "window.configure(background='white')\n",
    "\n",
    "# 設定不讓使用者調整視窗大小\n",
    "window.resizable(0,0) \n",
    "\n",
    "# 新增3個按鈕\n",
    "# 1.選擇照片顯示於視窗中 \n",
    "btn1 = Button(window, text ='Open image', command = open_img)\n",
    "btn1.pack()\n",
    "# 2.顯示得到的水果營養價值資料(中文表格)\n",
    "btn2 = Button(window, text=\"Identify\", command=identify) \n",
    "btn2.pack()\n",
    "# 3.顯示得到的水果營養價值資料(英文)\n",
    "btn3 = Button(window, text=\"Print Information\", command=printSomething) \n",
    "btn3.pack()\n",
    "# 4.顯示得到的水果營養價值資料(中文表格)\n",
    "btn4 = Button(window, text=\"Nutrition Table\", command=printNutriTable) \n",
    "btn4.pack()\n",
    "\n",
    "window.mainloop()"
   ]
  },
  {
   "cell_type": "code",
   "execution_count": null,
   "metadata": {},
   "outputs": [],
   "source": []
  },
  {
   "cell_type": "code",
   "execution_count": null,
   "metadata": {},
   "outputs": [],
   "source": []
  }
 ],
 "metadata": {
  "kernelspec": {
   "display_name": "Python 3",
   "language": "python",
   "name": "python3"
  },
  "language_info": {
   "codemirror_mode": {
    "name": "ipython",
    "version": 3
   },
   "file_extension": ".py",
   "mimetype": "text/x-python",
   "name": "python",
   "nbconvert_exporter": "python",
   "pygments_lexer": "ipython3",
   "version": "3.7.3"
  }
 },
 "nbformat": 4,
 "nbformat_minor": 2
}
