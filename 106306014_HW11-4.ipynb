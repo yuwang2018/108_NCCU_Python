{
 "cells": [
  {
   "cell_type": "markdown",
   "metadata": {},
   "source": [
    "# 支出管理分析系統"
   ]
  },
  {
   "cell_type": "code",
   "execution_count": 1,
   "metadata": {},
   "outputs": [],
   "source": [
    "%matplotlib inline \n",
    "\n",
    "import numpy as np\n",
    "import matplotlib.pyplot as plt\n",
    "import pandas as pd"
   ]
  },
  {
   "cell_type": "code",
   "execution_count": null,
   "metadata": {},
   "outputs": [
    {
     "name": "stdout",
     "output_type": "stream",
     "text": [
      "歡迎來到支出管理分析系統\n",
      "\n",
      "類別共有：1.飲食 2.交通 3.治裝 4.房租、水電雜費等 5.休閒娛樂 6.提升自我\n",
      "\n",
      "請依序填入本月各類別花費之金額\n",
      "\n",
      "飲食：\n",
      "6500\n",
      "交通：\n",
      "2000\n",
      "治裝：\n",
      "1500\n",
      "房租、水電雜費等：\n",
      "2000\n",
      "休閒娛樂：\n",
      "1500\n",
      "提升自我：\n",
      "2000\n",
      "本月總花費為 15500元\n",
      "\n",
      "飲食 的花費比例為41.935483870967744%\n",
      "\n",
      "交通 的花費比例為12.903225806451612%\n",
      "\n",
      "治裝 的花費比例為9.67741935483871%\n",
      "\n",
      "房租、水電雜費等 的花費比例為12.903225806451612%\n",
      "\n",
      "休閒娛樂 的花費比例為9.67741935483871%\n",
      "\n",
      "自我提升 的花費比例為12.903225806451612%\n",
      "\n",
      "類別共有：1.飲食 2.交通 3.治裝 4.房租、水電雜費等 5.休閒娛樂 6.提升自我\n",
      "\n",
      "請依序填入本月各類別花費之金額\n",
      "\n"
     ]
    }
   ],
   "source": [
    "print('歡迎來到支出管理分析系統\\n')\n",
    "\n",
    "while True:\n",
    "    print('類別共有：1.飲食 2.交通 3.治裝 4.房租、水電雜費等 5.休閒娛樂 6.提升自我\\n')\n",
    "    print('請依序填入本月各類別花費之金額\\n')\n",
    "    msg1 = input('飲食：\\n')\n",
    "    msg2 = input('交通：\\n')\n",
    "    msg3 = input('治裝：\\n')\n",
    "    msg4 = input('房租、水電雜費等：\\n')\n",
    "    msg5 = input('休閒娛樂：\\n')\n",
    "    msg6 = input('提升自我：\\n')\n",
    "    n1 = int(msg1)\n",
    "    n2 = int(msg2)\n",
    "    n3 = int(msg3)\n",
    "    n4 = int(msg4)\n",
    "    n5 = int(msg5)\n",
    "    n6 = int(msg6)\n",
    "    sum = n1+n2+n3+n4+n5+n6\n",
    "    d1 = (n1 /sum)*100\n",
    "    d2 = (n2/sum)*100\n",
    "    d3 = (n3/sum)*100\n",
    "    d4 = (n4/sum)*100\n",
    "    d5 = (n5/sum)*100\n",
    "    d6 = (n6/sum)*100\n",
    "    \n",
    "    \n",
    "    print(f'本月總花費為 {sum}元\\n')\n",
    "    print(f'飲食 的花費比例為{d1}%\\n')\n",
    "    print(f'交通 的花費比例為{d2}%\\n')\n",
    "    print(f'治裝 的花費比例為{d3}%\\n')\n",
    "    print(f'房租、水電雜費等 的花費比例為{d4}%\\n')\n",
    "    print(f'休閒娛樂 的花費比例為{d5}%\\n')\n",
    "    print(f'自我提升 的花費比例為{d6}%\\n')\n",
    "    \n",
    "   "
   ]
  },
  {
   "cell_type": "code",
   "execution_count": null,
   "metadata": {},
   "outputs": [],
   "source": []
  }
 ],
 "metadata": {
  "kernelspec": {
   "display_name": "Python 3",
   "language": "python",
   "name": "python3"
  },
  "language_info": {
   "codemirror_mode": {
    "name": "ipython",
    "version": 3
   },
   "file_extension": ".py",
   "mimetype": "text/x-python",
   "name": "python",
   "nbconvert_exporter": "python",
   "pygments_lexer": "ipython3",
   "version": "3.7.3"
  }
 },
 "nbformat": 4,
 "nbformat_minor": 2
}
