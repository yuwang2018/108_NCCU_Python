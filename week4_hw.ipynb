{
 "cells": [
  {
   "cell_type": "markdown",
   "metadata": {},
   "source": [
    "### 輸入數字比大小"
   ]
  },
  {
   "cell_type": "code",
   "execution_count": 1,
   "metadata": {},
   "outputs": [
    {
     "name": "stdout",
     "output_type": "stream",
     "text": [
      "Populating the interactive namespace from numpy and matplotlib\n"
     ]
    }
   ],
   "source": [
    "%pylab inline"
   ]
  },
  {
   "cell_type": "code",
   "execution_count": 2,
   "metadata": {},
   "outputs": [],
   "source": [
    "%matplotlib inline\n",
    "\n",
    "import numpy as np\n",
    "import matplotlib.pyplot as plt\n",
    "import pandas as pd"
   ]
  },
  {
   "cell_type": "code",
   "execution_count": null,
   "metadata": {},
   "outputs": [
    {
     "name": "stdout",
     "output_type": "stream",
     "text": [
      "(ゝ∀･)b ：請輸入一串數字~\n",
      "5 88 4 55 77 0 1\n",
      "(ゝ∀･)b ：請選擇排序方式：降冪 or 升冪？\n",
      "降冪\n",
      "['88', '77', '55', '5', '4', '1', '0']\n",
      "(ゝ∀･)b ：請輸入一串數字~\n",
      "5 88 4 55 77 0 1\n",
      "(ゝ∀･)b ：請選擇排序方式：降冪 or 升冪？\n",
      "升冪\n",
      "['0', '1', '4', '5', '55', '77', '88']\n"
     ]
    }
   ],
   "source": [
    "while True:\n",
    "    spam = input(\"(ゝ∀･)b ：請輸入一串數字~\\n\")\n",
    "    num = spam.split(' ')\n",
    "    list(num)\n",
    "    for n in num:\n",
    "        n = int(n)\n",
    "    \n",
    "    msg2 = input(\"(ゝ∀･)b ：請選擇排序方式：降冪 or 升冪？\\n\")\n",
    "    if('升冪' in msg2):\n",
    "        num.sort()\n",
    "        print(num)\n",
    "    else:\n",
    "        num.sort(reverse = True)\n",
    "        print(num)"
   ]
  }
 ],
 "metadata": {
  "kernelspec": {
   "display_name": "Python 3",
   "language": "python",
   "name": "python3"
  },
  "language_info": {
   "codemirror_mode": {
    "name": "ipython",
    "version": 3
   },
   "file_extension": ".py",
   "mimetype": "text/x-python",
   "name": "python",
   "nbconvert_exporter": "python",
   "pygments_lexer": "ipython3",
   "version": "3.7.3"
  }
 },
 "nbformat": 4,
 "nbformat_minor": 2
}
