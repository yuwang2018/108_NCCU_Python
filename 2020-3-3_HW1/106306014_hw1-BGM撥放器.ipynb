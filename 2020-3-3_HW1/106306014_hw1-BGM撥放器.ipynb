{
 "cells": [
  {
   "cell_type": "code",
   "execution_count": 1,
   "metadata": {},
   "outputs": [],
   "source": [
    "%matplotlib inline\n",
    "\n",
    "import numpy as np\n",
    "import matplotlib.pyplot as plt\n",
    "import pandas as pd"
   ]
  },
  {
   "cell_type": "code",
   "execution_count": 2,
   "metadata": {},
   "outputs": [],
   "source": [
    "import webbrowser\n",
    "url1 = \"https://www.youtube.com/watch?v=fYeA5Cloy-o\" #抒情鋼琴\n",
    "url2 = \"https://www.youtube.com/watch?v=JGIl4vEWJeo\" #讀書用\n",
    "url3 = \"https://www.youtube.com/watch?v=7voSN82FGF0\" #睡眠\n",
    "url4 = \"https://www.youtube.com/watch?v=IVXkRmwY8bw\" #遊戲用\n",
    "url5 = \"https://www.youtube.com/watch?v=Wde6iSIQ6Bc\" #Jazz\n"
   ]
  },
  {
   "cell_type": "code",
   "execution_count": 3,
   "metadata": {},
   "outputs": [
    {
     "name": "stdout",
     "output_type": "stream",
     "text": [
      "1.抒情鋼琴 2.讀書用 3.睡眠 4.遊戲用 5.Jazz\n",
      "停止使用請輸入'quit'\n",
      "你好！請輸入想要的BGM類型編號：\n",
      "2\n",
      "立即為您撥放 讀書用 BGM\n",
      "1.抒情鋼琴 2.讀書用 3.睡眠 4.遊戲用 5.Jazz\n",
      "停止使用請輸入'quit'\n",
      "你好！請輸入想要的BGM類型編號：\n",
      "5\n",
      "立即為您撥放 Jazz BGM\n",
      "1.抒情鋼琴 2.讀書用 3.睡眠 4.遊戲用 5.Jazz\n",
      "停止使用請輸入'quit'\n",
      "你好！請輸入想要的BGM類型編號：\n",
      "quit\n",
      "謝謝使用，再見！\n"
     ]
    }
   ],
   "source": [
    "while True:\n",
    "    print(\"1.抒情鋼琴 2.讀書用 3.睡眠 4.遊戲用 5.Jazz\")\n",
    "    print(\"停止使用請輸入'quit'\")\n",
    "    msg= input('你好！請輸入想要的BGM類型編號：\\n')\n",
    "\n",
    "    if msg == \"quit\" :\n",
    "        print(\"謝謝使用，再見！\")\n",
    "        break\n",
    "    \n",
    "    if msg == \"1\":\n",
    "        print(\"立即為您撥放 抒情鋼琴 BGM\")\n",
    "        webbrowser.open(url1)\n",
    "    elif msg == \"2\":\n",
    "        print(\"立即為您撥放 讀書用 BGM\")\n",
    "        webbrowser.open(url2)\n",
    "    elif msg == \"3\":\n",
    "        print(\"立即為您撥放 睡眠 BGM\")\n",
    "        webbrowser.open(url3)\n",
    "    elif msg == \"4\":\n",
    "        print(\"立即為您撥放 遊戲用 BGM\")\n",
    "        webbrowser.open(url4)\n",
    "    elif msg == \"5\":\n",
    "        print(\"立即為您撥放 Jazz BGM\")\n",
    "        webbrowser.open(url5)\n",
    "    else:\n",
    "        print(\"輸入錯誤！\")"
   ]
  },
  {
   "cell_type": "code",
   "execution_count": null,
   "metadata": {},
   "outputs": [],
   "source": []
  }
 ],
 "metadata": {
  "kernelspec": {
   "display_name": "Python 3",
   "language": "python",
   "name": "python3"
  },
  "language_info": {
   "codemirror_mode": {
    "name": "ipython",
    "version": 3
   },
   "file_extension": ".py",
   "mimetype": "text/x-python",
   "name": "python",
   "nbconvert_exporter": "python",
   "pygments_lexer": "ipython3",
   "version": "3.7.3"
  }
 },
 "nbformat": 4,
 "nbformat_minor": 2
}
