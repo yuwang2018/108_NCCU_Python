{
 "cells": [
  {
   "cell_type": "markdown",
   "metadata": {},
   "source": [
    "### 期末考要考幾分才不會被當"
   ]
  },
  {
   "cell_type": "code",
   "execution_count": 1,
   "metadata": {},
   "outputs": [],
   "source": [
    "%matplotlib inline \n",
    "\n",
    "import numpy as np\n",
    "import matplotlib.pyplot as plt\n",
    "import pandas as pd"
   ]
  },
  {
   "cell_type": "code",
   "execution_count": 2,
   "metadata": {},
   "outputs": [],
   "source": [
    "def compute(x,y):\n",
    "    result = x*y*0.01\n",
    "    return result"
   ]
  },
  {
   "cell_type": "code",
   "execution_count": 11,
   "metadata": {},
   "outputs": [
    {
     "name": "stdout",
     "output_type": "stream",
     "text": [
      "請輸入期末考成績佔學期成績的百分比(數字):\n",
      "60\n",
      "請輸入您的成績:\n",
      "50\n",
      "請輸入以上成績佔學期成績的百分比(數字):\n",
      "20\n",
      "請問你還有其他成績要記錄嗎?想要的話請輸入'y'\n",
      "y\n",
      "請輸入您的成績:\n",
      "80\n",
      "請輸入以上成績佔學期成績的百分比(數字):\n",
      "20\n",
      "期末考須考56.66666666666667分才不會被當\n"
     ]
    }
   ],
   "source": [
    "msg1 = input('請輸入期末考成績佔學期成績的百分比(數字):\\n')\n",
    "msg2 = input('請輸入您的成績:\\n')\n",
    "msg3 = input('請輸入以上成績佔學期成績的百分比(數字):\\n')\n",
    "\n",
    "grade = 0\n",
    "percent = 0\n",
    "percent = float(msg1)\n",
    "g1 = float(msg2)\n",
    "p1 = float(msg3)\n",
    "\n",
    "while True:\n",
    "    ask = input(\"請問你還有其他成績要記錄嗎?想要的話請輸入'y'\\n\")\n",
    "    if ask != \"y\":\n",
    "        grade = (60 - compute(g1,p1))/(percent*0.01)\n",
    "        print(f\"期末考須考{grade}分才不會被當\")\n",
    "        break\n",
    "    else:\n",
    "        msg4 = input('請輸入您的成績:\\n')\n",
    "        msg5 = input('請輸入以上成績佔學期成績的百分比(數字):\\n')\n",
    "        g2 = float(msg4)\n",
    "        p2 = float(msg5)\n",
    "        grade = (60 - (compute(g1,p1) + compute(g2,p2))) /(percent*0.01)\n",
    "        print(f'期末考須考{grade}分才不會被當')\n",
    "        break"
   ]
  },
  {
   "cell_type": "code",
   "execution_count": null,
   "metadata": {},
   "outputs": [],
   "source": []
  }
 ],
 "metadata": {
  "kernelspec": {
   "display_name": "Python 3",
   "language": "python",
   "name": "python3"
  },
  "language_info": {
   "codemirror_mode": {
    "name": "ipython",
    "version": 3
   },
   "file_extension": ".py",
   "mimetype": "text/x-python",
   "name": "python",
   "nbconvert_exporter": "python",
   "pygments_lexer": "ipython3",
   "version": "3.7.3"
  }
 },
 "nbformat": 4,
 "nbformat_minor": 2
}
