{
 "cells": [
  {
   "cell_type": "code",
   "execution_count": 1,
   "metadata": {},
   "outputs": [],
   "source": [
    "%matplotlib inline\n",
    "\n",
    "import numpy as np\n",
    "import matplotlib.pyplot as plt\n",
    "import pandas as pd"
   ]
  },
  {
   "cell_type": "markdown",
   "metadata": {},
   "source": [
    "## 讀入Fashion MNSIT 數據集"
   ]
  },
  {
   "cell_type": "code",
   "execution_count": 2,
   "metadata": {},
   "outputs": [],
   "source": [
    "from tensorflow.keras.datasets import fashion_mnist"
   ]
  },
  {
   "cell_type": "code",
   "execution_count": 3,
   "metadata": {},
   "outputs": [],
   "source": [
    "(x_train, y_train), (x_test, y_test) = fashion_mnist.load_data()"
   ]
  },
  {
   "cell_type": "code",
   "execution_count": 4,
   "metadata": {},
   "outputs": [
    {
     "data": {
      "text/plain": [
       "(60000, 28, 28)"
      ]
     },
     "execution_count": 4,
     "metadata": {},
     "output_type": "execute_result"
    }
   ],
   "source": [
    "x_train.shape"
   ]
  },
  {
   "cell_type": "code",
   "execution_count": 5,
   "metadata": {},
   "outputs": [],
   "source": [
    "# channel:(28,28)-->(28,28,1)\n",
    "x_train = x_train.reshape(60000, 28, 28,1)/255"
   ]
  },
  {
   "cell_type": "code",
   "execution_count": 6,
   "metadata": {},
   "outputs": [],
   "source": [
    "x_test = x_test.reshape(10000, 28, 28,1)/255"
   ]
  },
  {
   "cell_type": "code",
   "execution_count": 7,
   "metadata": {},
   "outputs": [],
   "source": [
    "#使用one-hot 進行轉換\n",
    "from tensorflow.keras.utils import to_categorical"
   ]
  },
  {
   "cell_type": "code",
   "execution_count": 8,
   "metadata": {},
   "outputs": [],
   "source": [
    "y_train = to_categorical(y_train,10)#10種資料\n",
    "y_test = to_categorical(y_test,10)"
   ]
  },
  {
   "cell_type": "markdown",
   "metadata": {},
   "source": [
    "## 讀入必要的函式"
   ]
  },
  {
   "cell_type": "code",
   "execution_count": 9,
   "metadata": {},
   "outputs": [],
   "source": [
    "from tensorflow.keras.models import Sequential\n",
    "from tensorflow.keras.layers import Conv2D, MaxPooling2D\n",
    "from tensorflow.keras.layers import Dense, Flatten #全連結神經網路\n",
    "from tensorflow.keras.optimizers import SGD"
   ]
  },
  {
   "cell_type": "markdown",
   "metadata": {},
   "source": [
    "## step1 打造函數學習機(CNN)"
   ]
  },
  {
   "cell_type": "code",
   "execution_count": 10,
   "metadata": {},
   "outputs": [],
   "source": [
    "model = Sequential()"
   ]
  },
  {
   "cell_type": "code",
   "execution_count": 11,
   "metadata": {},
   "outputs": [],
   "source": [
    "#1st layer\n",
    "model.add(Conv2D(16,(3,3),padding = 'same',input_shape=(28,28,1),activation='relu'))"
   ]
  },
  {
   "cell_type": "code",
   "execution_count": 12,
   "metadata": {},
   "outputs": [],
   "source": [
    "#輸出16個28*28矩陣\n",
    "#事實上是(28,28,16)"
   ]
  },
  {
   "cell_type": "code",
   "execution_count": 13,
   "metadata": {},
   "outputs": [],
   "source": [
    "model.add(MaxPooling2D(pool_size=(2,2)))#記分板"
   ]
  },
  {
   "cell_type": "code",
   "execution_count": 14,
   "metadata": {},
   "outputs": [],
   "source": [
    "#(14,14,16)"
   ]
  },
  {
   "cell_type": "code",
   "execution_count": 15,
   "metadata": {},
   "outputs": [],
   "source": [
    "#2nd layer\n",
    "model.add(Conv2D(32,(3,3),padding = 'same',activation='relu'))\n",
    "#輸出(14,14,32記分板/filter)"
   ]
  },
  {
   "cell_type": "code",
   "execution_count": 16,
   "metadata": {},
   "outputs": [],
   "source": [
    "model.add(MaxPooling2D(pool_size=(2,2)))#記分板\n",
    "#輸出(7,7,32記分板/filter)"
   ]
  },
  {
   "cell_type": "code",
   "execution_count": 17,
   "metadata": {},
   "outputs": [],
   "source": [
    "#3rd layer\n",
    "model.add(Conv2D(64,(3,3),padding = 'same',activation='relu'))"
   ]
  },
  {
   "cell_type": "code",
   "execution_count": 18,
   "metadata": {},
   "outputs": [],
   "source": [
    "model.add(MaxPooling2D(pool_size=(2,2)))#記分板"
   ]
  },
  {
   "cell_type": "code",
   "execution_count": 19,
   "metadata": {},
   "outputs": [],
   "source": [
    "#拉平\n",
    "model.add(Flatten())"
   ]
  },
  {
   "cell_type": "code",
   "execution_count": 20,
   "metadata": {},
   "outputs": [],
   "source": [
    "model.add(Dense(54, activation =\"relu\"))"
   ]
  },
  {
   "cell_type": "code",
   "execution_count": 21,
   "metadata": {},
   "outputs": [],
   "source": [
    "#最後輸出要10個數字且和為1\n",
    "model.add(Dense(10, activation =\"softmax\"))"
   ]
  },
  {
   "cell_type": "markdown",
   "metadata": {},
   "source": [
    "## 神經網路的內容"
   ]
  },
  {
   "cell_type": "code",
   "execution_count": 22,
   "metadata": {},
   "outputs": [
    {
     "name": "stdout",
     "output_type": "stream",
     "text": [
      "Model: \"sequential\"\n",
      "_________________________________________________________________\n",
      "Layer (type)                 Output Shape              Param #   \n",
      "=================================================================\n",
      "conv2d (Conv2D)              (None, 28, 28, 16)        160       \n",
      "_________________________________________________________________\n",
      "max_pooling2d (MaxPooling2D) (None, 14, 14, 16)        0         \n",
      "_________________________________________________________________\n",
      "conv2d_1 (Conv2D)            (None, 14, 14, 32)        4640      \n",
      "_________________________________________________________________\n",
      "max_pooling2d_1 (MaxPooling2 (None, 7, 7, 32)          0         \n",
      "_________________________________________________________________\n",
      "conv2d_2 (Conv2D)            (None, 7, 7, 64)          18496     \n",
      "_________________________________________________________________\n",
      "max_pooling2d_2 (MaxPooling2 (None, 3, 3, 64)          0         \n",
      "_________________________________________________________________\n",
      "flatten (Flatten)            (None, 576)               0         \n",
      "_________________________________________________________________\n",
      "dense (Dense)                (None, 54)                31158     \n",
      "_________________________________________________________________\n",
      "dense_1 (Dense)              (None, 10)                550       \n",
      "=================================================================\n",
      "Total params: 55,004\n",
      "Trainable params: 55,004\n",
      "Non-trainable params: 0\n",
      "_________________________________________________________________\n"
     ]
    }
   ],
   "source": [
    "model.summary()"
   ]
  },
  {
   "cell_type": "code",
   "execution_count": 23,
   "metadata": {},
   "outputs": [
    {
     "data": {
      "text/plain": [
       "160"
      ]
     },
     "execution_count": 23,
     "metadata": {},
     "output_type": "execute_result"
    }
   ],
   "source": [
    "# 3*3 filter(weight)+1 (bias)\n",
    "(3*3+1)*16 #要調的參數數"
   ]
  },
  {
   "cell_type": "code",
   "execution_count": 24,
   "metadata": {},
   "outputs": [],
   "source": [
    "# (3*3*16channel+1)*32 =4640"
   ]
  },
  {
   "cell_type": "code",
   "execution_count": 25,
   "metadata": {},
   "outputs": [],
   "source": [
    "#compile\n",
    "model.compile(loss='mse',optimizer=SGD(lr=0.087),metrics=['accuracy'])"
   ]
  },
  {
   "cell_type": "markdown",
   "metadata": {},
   "source": [
    "## step2 fit 訓練"
   ]
  },
  {
   "cell_type": "code",
   "execution_count": 26,
   "metadata": {
    "scrolled": true
   },
   "outputs": [
    {
     "name": "stdout",
     "output_type": "stream",
     "text": [
      "Train on 60000 samples\n",
      "Epoch 1/12\n",
      "60000/60000 [==============================] - 30s 495us/sample - loss: 0.0892 - accuracy: 0.1888\n",
      "Epoch 2/12\n",
      "60000/60000 [==============================] - 23s 389us/sample - loss: 0.0820 - accuracy: 0.3648\n",
      "Epoch 3/12\n",
      "60000/60000 [==============================] - 24s 407us/sample - loss: 0.0515 - accuracy: 0.6299\n",
      "Epoch 4/12\n",
      "60000/60000 [==============================] - 26s 433us/sample - loss: 0.0396 - accuracy: 0.7094\n",
      "Epoch 5/12\n",
      "60000/60000 [==============================] - 24s 393us/sample - loss: 0.0360 - accuracy: 0.7419\n",
      "Epoch 6/12\n",
      "60000/60000 [==============================] - 26s 426us/sample - loss: 0.0337 - accuracy: 0.7586\n",
      "Epoch 7/12\n",
      "60000/60000 [==============================] - 24s 399us/sample - loss: 0.0321 - accuracy: 0.7719\n",
      "Epoch 8/12\n",
      "60000/60000 [==============================] - 24s 408us/sample - loss: 0.0308 - accuracy: 0.7839\n",
      "Epoch 9/12\n",
      "60000/60000 [==============================] - 24s 395us/sample - loss: 0.0297 - accuracy: 0.7917\n",
      "Epoch 10/12\n",
      "60000/60000 [==============================] - 28s 472us/sample - loss: 0.0288 - accuracy: 0.7987\n",
      "Epoch 11/12\n",
      "60000/60000 [==============================] - 27s 457us/sample - loss: 0.0280 - accuracy: 0.8052\n",
      "Epoch 12/12\n",
      "60000/60000 [==============================] - 25s 419us/sample - loss: 0.0272 - accuracy: 0.8106\n"
     ]
    },
    {
     "data": {
      "text/plain": [
       "<tensorflow.python.keras.callbacks.History at 0x226843dd278>"
      ]
     },
     "execution_count": 26,
     "metadata": {},
     "output_type": "execute_result"
    }
   ],
   "source": [
    "model.fit(x_train,y_train, batch_size=128, epochs=12)"
   ]
  },
  {
   "cell_type": "markdown",
   "metadata": {},
   "source": [
    "### 如果lr=0.1"
   ]
  },
  {
   "cell_type": "code",
   "execution_count": 27,
   "metadata": {},
   "outputs": [],
   "source": [
    "model.compile(loss='mse',optimizer=SGD(lr=0.1),metrics=['accuracy'])"
   ]
  },
  {
   "cell_type": "code",
   "execution_count": 28,
   "metadata": {},
   "outputs": [
    {
     "name": "stdout",
     "output_type": "stream",
     "text": [
      "Train on 60000 samples\n",
      "Epoch 1/12\n",
      "60000/60000 [==============================] - 26s 440us/sample - loss: 0.0268 - accuracy: 0.8142\n",
      "Epoch 2/12\n",
      "60000/60000 [==============================] - 24s 406us/sample - loss: 0.0262 - accuracy: 0.8178\n",
      "Epoch 3/12\n",
      "60000/60000 [==============================] - 25s 413us/sample - loss: 0.0255 - accuracy: 0.8237\n",
      "Epoch 4/12\n",
      "60000/60000 [==============================] - 25s 412us/sample - loss: 0.0246 - accuracy: 0.8300\n",
      "Epoch 5/12\n",
      "60000/60000 [==============================] - 25s 417us/sample - loss: 0.0241 - accuracy: 0.8336\n",
      "Epoch 6/12\n",
      "60000/60000 [==============================] - 24s 402us/sample - loss: 0.0236 - accuracy: 0.8380\n",
      "Epoch 7/12\n",
      "60000/60000 [==============================] - 25s 424us/sample - loss: 0.0230 - accuracy: 0.8417\n",
      "Epoch 8/12\n",
      "60000/60000 [==============================] - 25s 421us/sample - loss: 0.0226 - accuracy: 0.8450\n",
      "Epoch 9/12\n",
      "60000/60000 [==============================] - 23s 389us/sample - loss: 0.0221 - accuracy: 0.8488\n",
      "Epoch 10/12\n",
      "60000/60000 [==============================] - 25s 419us/sample - loss: 0.0217 - accuracy: 0.8521\n",
      "Epoch 11/12\n",
      "60000/60000 [==============================] - 37s 625us/sample - loss: 0.0214 - accuracy: 0.8519\n",
      "Epoch 12/12\n",
      "60000/60000 [==============================] - 46s 765us/sample - loss: 0.0211 - accuracy: 0.8554\n"
     ]
    },
    {
     "data": {
      "text/plain": [
       "<tensorflow.python.keras.callbacks.History at 0x226846d0320>"
      ]
     },
     "execution_count": 28,
     "metadata": {},
     "output_type": "execute_result"
    }
   ],
   "source": [
    "model.fit(x_train,y_train, batch_size=128, epochs=12)"
   ]
  },
  {
   "cell_type": "markdown",
   "metadata": {},
   "source": [
    "### 調整lr可以提高準確率！"
   ]
  },
  {
   "cell_type": "markdown",
   "metadata": {},
   "source": [
    "### 如果提高batch size=200"
   ]
  },
  {
   "cell_type": "code",
   "execution_count": 29,
   "metadata": {},
   "outputs": [],
   "source": [
    "model.compile(loss='mse',optimizer=SGD(lr=0.087),metrics=['accuracy'])"
   ]
  },
  {
   "cell_type": "code",
   "execution_count": 30,
   "metadata": {},
   "outputs": [
    {
     "name": "stdout",
     "output_type": "stream",
     "text": [
      "Train on 60000 samples\n",
      "Epoch 1/12\n",
      "60000/60000 [==============================] - 53s 878us/sample - loss: 0.0202 - accuracy: 0.8608\n",
      "Epoch 2/12\n",
      "60000/60000 [==============================] - 37s 616us/sample - loss: 0.0200 - accuracy: 0.8634\n",
      "Epoch 3/12\n",
      "60000/60000 [==============================] - 31s 510us/sample - loss: 0.0199 - accuracy: 0.8653\n",
      "Epoch 4/12\n",
      "60000/60000 [==============================] - 30s 493us/sample - loss: 0.0197 - accuracy: 0.8653\n",
      "Epoch 5/12\n",
      "60000/60000 [==============================] - 27s 444us/sample - loss: 0.0196 - accuracy: 0.8663\n",
      "Epoch 6/12\n",
      "60000/60000 [==============================] - 27s 449us/sample - loss: 0.0194 - accuracy: 0.8679\n",
      "Epoch 7/12\n",
      "60000/60000 [==============================] - 27s 450us/sample - loss: 0.0192 - accuracy: 0.8687\n",
      "Epoch 8/12\n",
      "60000/60000 [==============================] - 32s 529us/sample - loss: 0.0192 - accuracy: 0.8680\n",
      "Epoch 9/12\n",
      "60000/60000 [==============================] - 29s 475us/sample - loss: 0.0190 - accuracy: 0.8702\n",
      "Epoch 10/12\n",
      "60000/60000 [==============================] - 28s 464us/sample - loss: 0.0190 - accuracy: 0.8708- loss: 0.0189 - accu\n",
      "Epoch 11/12\n",
      "60000/60000 [==============================] - 25s 410us/sample - loss: 0.0187 - accuracy: 0.8724\n",
      "Epoch 12/12\n",
      "60000/60000 [==============================] - 25s 410us/sample - loss: 0.0187 - accuracy: 0.8727\n"
     ]
    },
    {
     "data": {
      "text/plain": [
       "<tensorflow.python.keras.callbacks.History at 0x22684675eb8>"
      ]
     },
     "execution_count": 30,
     "metadata": {},
     "output_type": "execute_result"
    }
   ],
   "source": [
    "model.fit(x_train,y_train, batch_size=200, epochs=12)"
   ]
  },
  {
   "cell_type": "markdown",
   "metadata": {},
   "source": [
    "### 調整batch size可以提高準確率！"
   ]
  },
  {
   "cell_type": "markdown",
   "metadata": {},
   "source": [
    "### 如果提高訓練次數到20"
   ]
  },
  {
   "cell_type": "code",
   "execution_count": 31,
   "metadata": {},
   "outputs": [],
   "source": [
    "model.compile(loss='mse',optimizer=SGD(lr=0.087),metrics=['accuracy'])"
   ]
  },
  {
   "cell_type": "code",
   "execution_count": 32,
   "metadata": {},
   "outputs": [
    {
     "name": "stdout",
     "output_type": "stream",
     "text": [
      "Train on 60000 samples\n",
      "Epoch 1/20\n",
      "60000/60000 [==============================] - 34s 563us/sample - loss: 0.0189 - accuracy: 0.8706\n",
      "Epoch 2/20\n",
      "60000/60000 [==============================] - 27s 450us/sample - loss: 0.0188 - accuracy: 0.8716\n",
      "Epoch 3/20\n",
      "60000/60000 [==============================] - 27s 456us/sample - loss: 0.0186 - accuracy: 0.8730\n",
      "Epoch 4/20\n",
      "60000/60000 [==============================] - 24s 405us/sample - loss: 0.0183 - accuracy: 0.8757\n",
      "Epoch 5/20\n",
      "60000/60000 [==============================] - 29s 481us/sample - loss: 0.0182 - accuracy: 0.8756- los\n",
      "Epoch 6/20\n",
      "60000/60000 [==============================] - 24s 408us/sample - loss: 0.0179 - accuracy: 0.8782\n",
      "Epoch 7/20\n",
      "60000/60000 [==============================] - 28s 459us/sample - loss: 0.0178 - accuracy: 0.8790\n",
      "Epoch 8/20\n",
      "60000/60000 [==============================] - 27s 455us/sample - loss: 0.0178 - accuracy: 0.8782\n",
      "Epoch 9/20\n",
      "60000/60000 [==============================] - 22s 374us/sample - loss: 0.0175 - accuracy: 0.8815\n",
      "Epoch 10/20\n",
      "60000/60000 [==============================] - 23s 377us/sample - loss: 0.0174 - accuracy: 0.8818\n",
      "Epoch 11/20\n",
      "60000/60000 [==============================] - 25s 412us/sample - loss: 0.0173 - accuracy: 0.8826\n",
      "Epoch 12/20\n",
      "60000/60000 [==============================] - 28s 473us/sample - loss: 0.0172 - accuracy: 0.8827\n",
      "Epoch 13/20\n",
      "60000/60000 [==============================] - 24s 399us/sample - loss: 0.0170 - accuracy: 0.8849\n",
      "Epoch 14/20\n",
      "60000/60000 [==============================] - 27s 451us/sample - loss: 0.0168 - accuracy: 0.8863\n",
      "Epoch 15/20\n",
      "60000/60000 [==============================] - 29s 487us/sample - loss: 0.0168 - accuracy: 0.8862\n",
      "Epoch 16/20\n",
      "60000/60000 [==============================] - 26s 432us/sample - loss: 0.0167 - accuracy: 0.8867\n",
      "Epoch 17/20\n",
      "60000/60000 [==============================] - 28s 475us/sample - loss: 0.0166 - accuracy: 0.8875\n",
      "Epoch 18/20\n",
      "60000/60000 [==============================] - 27s 449us/sample - loss: 0.0164 - accuracy: 0.8891\n",
      "Epoch 19/20\n",
      "60000/60000 [==============================] - 25s 409us/sample - loss: 0.0163 - accuracy: 0.8905\n",
      "Epoch 20/20\n",
      "60000/60000 [==============================] - 26s 436us/sample - loss: 0.0163 - accuracy: 0.8901\n"
     ]
    },
    {
     "data": {
      "text/plain": [
       "<tensorflow.python.keras.callbacks.History at 0x226f95a1ef0>"
      ]
     },
     "execution_count": 32,
     "metadata": {},
     "output_type": "execute_result"
    }
   ],
   "source": [
    "model.fit(x_train,y_train, batch_size=128, epochs=20)"
   ]
  },
  {
   "cell_type": "markdown",
   "metadata": {},
   "source": [
    "### 也可以提高準確度"
   ]
  },
  {
   "cell_type": "markdown",
   "metadata": {},
   "source": [
    "## step3 predict"
   ]
  },
  {
   "cell_type": "code",
   "execution_count": 40,
   "metadata": {},
   "outputs": [],
   "source": [
    "class_names = ['T-shirt/top', 'Trouser', 'Pullover', 'Dress', 'Coat',\n",
    "               'Sandal', 'Shirt', 'Sneaker', 'Bag', 'Ankle boot']"
   ]
  },
  {
   "cell_type": "code",
   "execution_count": 41,
   "metadata": {},
   "outputs": [],
   "source": [
    "result= model.predict_classes(x_test)"
   ]
  },
  {
   "cell_type": "code",
   "execution_count": 48,
   "metadata": {},
   "outputs": [],
   "source": [
    "def my_predict(n):\n",
    "    print('CNN預測:', class_names[result[n]])\n",
    "    X= x_test[n].reshape(28,28)\n",
    "    plt.imshow(X)"
   ]
  },
  {
   "cell_type": "code",
   "execution_count": 49,
   "metadata": {},
   "outputs": [],
   "source": [
    "from ipywidgets import interact_manual"
   ]
  },
  {
   "cell_type": "code",
   "execution_count": 50,
   "metadata": {},
   "outputs": [
    {
     "data": {
      "application/vnd.jupyter.widget-view+json": {
       "model_id": "5814312d39da492eb183ee4f5c90e5fb",
       "version_major": 2,
       "version_minor": 0
      },
      "text/plain": [
       "interactive(children=(IntSlider(value=4999, description='n', max=9999), Button(description='Run Interact', sty…"
      ]
     },
     "metadata": {},
     "output_type": "display_data"
    },
    {
     "data": {
      "text/plain": [
       "<function __main__.my_predict(n)>"
      ]
     },
     "execution_count": 50,
     "metadata": {},
     "output_type": "execute_result"
    }
   ],
   "source": [
    "interact_manual(my_predict, n=(0,9999))"
   ]
  },
  {
   "cell_type": "code",
   "execution_count": 51,
   "metadata": {},
   "outputs": [
    {
     "name": "stdout",
     "output_type": "stream",
     "text": [
      "10000/10000 [==============================] - 2s 159us/sample - loss: 0.0176 - accuracy: 0.8781\n"
     ]
    }
   ],
   "source": [
    "score= model.evaluate(x_test,y_test)"
   ]
  },
  {
   "cell_type": "code",
   "execution_count": 52,
   "metadata": {},
   "outputs": [],
   "source": [
    "loss, acc =score"
   ]
  },
  {
   "cell_type": "code",
   "execution_count": 53,
   "metadata": {},
   "outputs": [
    {
     "name": "stdout",
     "output_type": "stream",
     "text": [
      "測試資料的正確率: 0.8781\n"
     ]
    }
   ],
   "source": [
    "print('測試資料的正確率:', acc)"
   ]
  },
  {
   "cell_type": "code",
   "execution_count": null,
   "metadata": {},
   "outputs": [],
   "source": []
  }
 ],
 "metadata": {
  "kernelspec": {
   "display_name": "Python 3",
   "language": "python",
   "name": "python3"
  },
  "language_info": {
   "codemirror_mode": {
    "name": "ipython",
    "version": 3
   },
   "file_extension": ".py",
   "mimetype": "text/x-python",
   "name": "python",
   "nbconvert_exporter": "python",
   "pygments_lexer": "ipython3",
   "version": "3.7.3"
  }
 },
 "nbformat": 4,
 "nbformat_minor": 2
}
