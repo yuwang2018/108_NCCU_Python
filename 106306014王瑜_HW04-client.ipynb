{
 "cells": [
  {
   "cell_type": "code",
   "execution_count": 1,
   "metadata": {},
   "outputs": [],
   "source": [
    "# https://zh.wikipedia.org/wiki/Berkeley%E5%A5%97%E6%8E%A5%E5%AD%97"
   ]
  },
  {
   "cell_type": "code",
   "execution_count": 2,
   "metadata": {},
   "outputs": [],
   "source": [
    "import socket\n",
    "import threading\n",
    "import random"
   ]
  },
  {
   "cell_type": "code",
   "execution_count": 3,
   "metadata": {},
   "outputs": [],
   "source": [
    "s = socket.socket(socket.AF_INET, socket.SOCK_STREAM)"
   ]
  },
  {
   "cell_type": "code",
   "execution_count": 4,
   "metadata": {},
   "outputs": [],
   "source": [
    "pars = ('127.0.0.1', 8700) # server IP and server port\n",
    "s.connect(pars)"
   ]
  },
  {
   "cell_type": "code",
   "execution_count": 5,
   "metadata": {},
   "outputs": [
    {
     "name": "stdout",
     "output_type": "stream",
     "text": [
      "data from server: (8, 255, 0, 3, 1, 106306014)\n"
     ]
    }
   ],
   "source": [
    "import struct\n",
    "import binascii\n",
    "\n",
    "while True:\n",
    "    \n",
    "    # let the client talk first\n",
    "    Type =8\n",
    "    Code =255\n",
    "    Unused =0\n",
    "    Identifier =random.randint(0,2^16)\n",
    "    seq =1\n",
    "    msg = 106306014\n",
    "    pkt = struct.pack('!BBHHHL',Type, Code, Unused, Identifier, seq, msg)\n",
    "    s.send(pkt)\n",
    "    \n",
    "    # then wait for server response\n",
    "    data = s.recv(1024)\n",
    "    \n",
    "    if data:\n",
    "        ans = struct.unpack('!BBHHHL',pkt)\n",
    "        print(\"data from server:\", ans)\n",
    "\n",
    "    # terminate\n",
    "    s.send(b'close')\n",
    "    break\n",
    "    \n",
    "# close directly\n",
    "s.close()"
   ]
  },
  {
   "cell_type": "code",
   "execution_count": null,
   "metadata": {},
   "outputs": [],
   "source": []
  }
 ],
 "metadata": {
  "kernelspec": {
   "display_name": "Python 3",
   "language": "python",
   "name": "python3"
  },
  "language_info": {
   "codemirror_mode": {
    "name": "ipython",
    "version": 3
   },
   "file_extension": ".py",
   "mimetype": "text/x-python",
   "name": "python",
   "nbconvert_exporter": "python",
   "pygments_lexer": "ipython3",
   "version": "3.7.3"
  }
 },
 "nbformat": 4,
 "nbformat_minor": 2
}
