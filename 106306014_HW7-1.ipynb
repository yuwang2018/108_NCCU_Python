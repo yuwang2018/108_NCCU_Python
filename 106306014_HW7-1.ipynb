{
 "cells": [
  {
   "cell_type": "markdown",
   "metadata": {},
   "source": [
    "### 計算每日蛋白質需求"
   ]
  },
  {
   "cell_type": "code",
   "execution_count": 1,
   "metadata": {},
   "outputs": [],
   "source": [
    "%matplotlib inline \n",
    "\n",
    "import numpy as np\n",
    "import matplotlib.pyplot as plt\n",
    "import pandas as pd"
   ]
  },
  {
   "cell_type": "code",
   "execution_count": null,
   "metadata": {},
   "outputs": [
    {
     "name": "stdout",
     "output_type": "stream",
     "text": [
      "請輸入您的體重(kg)：\n",
      "75\n",
      "\n",
      " 1.輕活動量(久坐不動) \n",
      " 2.中活動量(基本運動量、勞務性質工作、孕婦) \n",
      " 3.高活動量(高強度體能運動)\n",
      "\n",
      "請輸入符合您的活動量(數字)：2\n",
      "\n",
      "您每日的蛋白質需求為97.5公克\n",
      "請輸入您的體重(kg)：\n",
      "55\n",
      "\n",
      " 1.輕活動量(久坐不動) \n",
      " 2.中活動量(基本運動量、勞務性質工作、孕婦) \n",
      " 3.高活動量(高強度體能運動)\n",
      "\n",
      "請輸入符合您的活動量(數字)：3\n",
      "\n",
      "您每日的蛋白質需求為99.0公克\n"
     ]
    }
   ],
   "source": [
    "while True:\n",
    "    msg1 = input('請輸入您的體重(kg)：\\n')\n",
    "    kg = 0\n",
    "    num = 0\n",
    "    kg= int(msg1)\n",
    "    print(\"\\n 1.輕活動量(久坐不動) \\n 2.中活動量(基本運動量、勞務性質工作、孕婦) \\n 3.高活動量(高強度體能運動)\")\n",
    "    msg2 = input('\\n請輸入符合您的活動量(數字)：')\n",
    "    num = int(msg2) \n",
    "    r = 0\n",
    "\n",
    "    if (\"1\" in msg2):\n",
    "        r = kg * 0.8\n",
    "        print(f\"您每日的蛋白質需求為{r}公克\")\n",
    "    elif(\"2\" in msg2):\n",
    "        r = kg * 1.3\n",
    "        print(f\"\\n您每日的蛋白質需求為{r}公克\")\n",
    "    else:\n",
    "        r = kg * 1.8\n",
    "        print(f\"\\n您每日的蛋白質需求為{r}公克\")"
   ]
  },
  {
   "cell_type": "code",
   "execution_count": null,
   "metadata": {},
   "outputs": [],
   "source": []
  }
 ],
 "metadata": {
  "kernelspec": {
   "display_name": "Python 3",
   "language": "python",
   "name": "python3"
  },
  "language_info": {
   "codemirror_mode": {
    "name": "ipython",
    "version": 3
   },
   "file_extension": ".py",
   "mimetype": "text/x-python",
   "name": "python",
   "nbconvert_exporter": "python",
   "pygments_lexer": "ipython3",
   "version": "3.7.3"
  }
 },
 "nbformat": 4,
 "nbformat_minor": 2
}
